{
 "cells": [
  {
   "cell_type": "code",
   "execution_count": 1,
   "metadata": {
    "collapsed": false
   },
   "outputs": [
    {
     "name": "stderr",
     "output_type": "stream",
     "text": [
      "Using Theano backend.\n"
     ]
    }
   ],
   "source": [
    "from keras.models import Sequential\n",
    "from keras.layers.core import Flatten, Dense, Dropout\n",
    "from keras.layers.convolutional import Convolution2D, MaxPooling2D, ZeroPadding2D\n",
    "from keras.layers.advanced_activations import SReLU, ELU\n",
    "from keras.optimizers import SGD, RMSprop, Adagrad\n",
    "from keras import backend as K\n",
    "from keras.preprocessing.image import ImageDataGenerator\n",
    "\n",
    "from PIL import Image\n",
    "import skimage\n",
    "from skimage.io import imread\n",
    "\n",
    "import numpy as np\n",
    "from scipy import signal\n",
    "from scipy import misc\n",
    "from scipy import ndimage\n",
    "\n",
    "import matplotlib as mpl\n",
    "import matplotlib.pyplot as plt\n",
    "\n",
    "import os\n",
    "import sys\n",
    "import subprocess\n",
    "\n",
    "import uuid\n",
    "import json\n",
    "import random\n",
    "import math \n",
    "import csv\n",
    "\n",
    "from time import gmtime, strftime\n",
    "import datetime\n",
    "\n",
    "NR_EPOCH = 8\n",
    "\n",
    "BASE_MODEL_TRAINABLE    = False\n",
    "BLOCK_5_TRAINABLE       = False\n",
    "LAST_LAYER_TRAINABLE    = False\n",
    "SOFTMAX_LAYER_TRAINABLE = False\n",
    "\n",
    "IMGSIZE_X = 224 # IMGSIZE_X = 224\n",
    "IMGSIZE_Y = 224 # IMGSIZE_Y = 224\n",
    "\n",
    "WEIGHTS_PATH = '/Users/lucaslingle/Desktop/DeepLearning/ConvNets/Faces/src/ConvNets/vgg16_weights.h5'\n",
    "DATA_DIR = '/Users/lucaslingle/git/skip-thoughts/data/'\n",
    "MODELS_DIR = '/Users/lucaslingle/git/skip-thoughts/models/lucas-designed-models/'"
   ]
  },
  {
   "cell_type": "code",
   "execution_count": 2,
   "metadata": {
    "collapsed": false
   },
   "outputs": [
    {
     "name": "stdout",
     "output_type": "stream",
     "text": [
      "Loading model parameters...\n",
      "Compiling encoders...\n",
      "Loading tables...\n",
      "Packing up...\n"
     ]
    }
   ],
   "source": [
    "import skipthoughts\n",
    "model = skipthoughts.load_model()"
   ]
  },
  {
   "cell_type": "code",
   "execution_count": 3,
   "metadata": {
    "collapsed": true
   },
   "outputs": [],
   "source": [
    "def VGG_16(weights_path=None):\n",
    "    model = Sequential()\n",
    "    model.add(ZeroPadding2D((1,1),input_shape=(3,224,224)))\n",
    "    model.add(Convolution2D(64, 3, 3, activation='relu', trainable=BASE_MODEL_TRAINABLE))\n",
    "    model.add(ZeroPadding2D((1,1), trainable=BASE_MODEL_TRAINABLE))\n",
    "    model.add(Convolution2D(64, 3, 3, activation='relu', trainable=BASE_MODEL_TRAINABLE))\n",
    "    model.add(MaxPooling2D((2,2), strides=(2,2), trainable=BASE_MODEL_TRAINABLE))\n",
    "\n",
    "    model.add(ZeroPadding2D((1,1), trainable=BASE_MODEL_TRAINABLE))\n",
    "    model.add(Convolution2D(128, 3, 3, activation='relu', trainable=BASE_MODEL_TRAINABLE))\n",
    "    model.add(ZeroPadding2D((1,1), trainable=BASE_MODEL_TRAINABLE))\n",
    "    model.add(Convolution2D(128, 3, 3, activation='relu', trainable=BASE_MODEL_TRAINABLE))\n",
    "    model.add(MaxPooling2D((2,2), strides=(2,2)))\n",
    "\n",
    "    model.add(ZeroPadding2D((1,1), trainable=BASE_MODEL_TRAINABLE))\n",
    "    model.add(Convolution2D(256, 3, 3, activation='relu', trainable=BASE_MODEL_TRAINABLE))\n",
    "    model.add(ZeroPadding2D((1,1), trainable=BASE_MODEL_TRAINABLE))\n",
    "    model.add(Convolution2D(256, 3, 3, activation='relu', trainable=BASE_MODEL_TRAINABLE))\n",
    "    model.add(ZeroPadding2D((1,1), trainable=BASE_MODEL_TRAINABLE))\n",
    "    model.add(Convolution2D(256, 3, 3, activation='relu', trainable=BASE_MODEL_TRAINABLE))\n",
    "    model.add(MaxPooling2D((2,2), strides=(2,2), trainable=BASE_MODEL_TRAINABLE))\n",
    "\n",
    "    model.add(ZeroPadding2D((1,1), trainable=BASE_MODEL_TRAINABLE))\n",
    "    model.add(Convolution2D(512, 3, 3, activation='relu', trainable=BASE_MODEL_TRAINABLE))\n",
    "    model.add(ZeroPadding2D((1,1), trainable=BASE_MODEL_TRAINABLE))\n",
    "    model.add(Convolution2D(512, 3, 3, activation='relu', trainable=BASE_MODEL_TRAINABLE))\n",
    "    model.add(ZeroPadding2D((1,1), trainable=BASE_MODEL_TRAINABLE))\n",
    "    model.add(Convolution2D(512, 3, 3, activation='relu', trainable=BASE_MODEL_TRAINABLE))\n",
    "    model.add(MaxPooling2D((2,2), strides=(2,2), trainable=BASE_MODEL_TRAINABLE))\n",
    "\n",
    "    model.add(ZeroPadding2D((1,1), trainable=(BASE_MODEL_TRAINABLE or BLOCK_5_TRAINABLE)))\n",
    "    model.add(Convolution2D(512, 3, 3, activation='relu', trainable=(BASE_MODEL_TRAINABLE or BLOCK_5_TRAINABLE)))\n",
    "    model.add(ZeroPadding2D((1,1), trainable=(BASE_MODEL_TRAINABLE or BLOCK_5_TRAINABLE)))\n",
    "    model.add(Convolution2D(512, 3, 3, activation='relu', trainable=(BASE_MODEL_TRAINABLE or BLOCK_5_TRAINABLE)))\n",
    "    model.add(ZeroPadding2D((1,1), trainable=(BASE_MODEL_TRAINABLE or BLOCK_5_TRAINABLE)))\n",
    "    model.add(Convolution2D(512, 3, 3, activation='relu', trainable=(BASE_MODEL_TRAINABLE or BLOCK_5_TRAINABLE)))\n",
    "    model.add(MaxPooling2D((2,2), strides=(2,2), trainable=(BASE_MODEL_TRAINABLE or BLOCK_5_TRAINABLE)))\n",
    "\n",
    "    model.add(Flatten())\n",
    "    model.add(Dense(4096, activation='relu', trainable=BASE_MODEL_TRAINABLE))\n",
    "    model.add(Dropout(0.5, trainable=BASE_MODEL_TRAINABLE))\n",
    "    model.add(Dense(4096, activation='relu', trainable=LAST_LAYER_TRAINABLE))\n",
    "    model.add(Dropout(0.5, trainable=BASE_MODEL_TRAINABLE))\n",
    "    model.add(Dense(1000, activation='softmax', trainable=SOFTMAX_LAYER_TRAINABLE))\n",
    "\n",
    "    if weights_path:\n",
    "        model.load_weights(weights_path)\n",
    "\n",
    "    return model"
   ]
  },
  {
   "cell_type": "code",
   "execution_count": 4,
   "metadata": {
    "collapsed": false
   },
   "outputs": [],
   "source": [
    "def pop_layer(model):\n",
    "    if not model.outputs:\n",
    "        raise Exception('Sequential model cannot be popped: model is empty.')\n",
    "\n",
    "    model.layers.pop()\n",
    "    if not model.layers:\n",
    "        model.outputs = []\n",
    "        model.inbound_nodes = []\n",
    "        model.outbound_nodes = []\n",
    "    else:\n",
    "        model.layers[-1].outbound_nodes = []\n",
    "        model.outputs = [model.layers[-1].output]\n",
    "    model.built = False"
   ]
  },
  {
   "cell_type": "code",
   "execution_count": 5,
   "metadata": {
    "collapsed": true
   },
   "outputs": [],
   "source": [
    "def resize_to_target_w_aspect_ratio(old_im, target_image_size):\n",
    "\n",
    "  # stackoverflow.com/questions/11142851/adding-borders-to-an-image-using-python\n",
    "  # stackoverflow.com/questions/24745857/python-pillow-how-to-scale-an-image\n",
    "  # stackoverflow.com/questions/273946/how-do-i-resize-an-image-using-pil-and-maintain-its-aspect-ratio\n",
    "\n",
    "  old_size = old_im.size\n",
    "  new_im = Image.new(\"RGB\", target_image_size, color=(255,255,255))\n",
    "\n",
    "  if (old_size[0] < IMGSIZE_X) and (old_size[1] < IMGSIZE_Y):\n",
    "    new_im.paste(old_im, ((target_image_size[0]-old_size[0])/2, (target_image_size[1]-old_size[1])/2))\n",
    "  else:\n",
    "    c = min(float(target_image_size[0])/float(old_size[0]), float(target_image_size[1]) / float(old_size[1]))\n",
    "\n",
    "    resized_float_size = (c * old_size[0], c * old_size[1])\n",
    "    resized_size = (int(math.floor(resized_float_size[0])), int(math.floor(resized_float_size[1])))\n",
    "\n",
    "    # print \"Original size: \" + str(old_im.size)\n",
    "\n",
    "    # This method resizes  the current image object (acts by reference, not value! Write it out first, if you want an as-is copy!)\n",
    "    # That said, it does not mess up the original *file*, just the Image object in this program.\n",
    "    # And of course, if you write to the same filepath as the original, that'd mess up the actual file.\n",
    "\n",
    "    old_im.thumbnail(resized_size, Image.ANTIALIAS)\n",
    "\n",
    "    # print \"Resized size: \" + str(old_im.size)\n",
    "\n",
    "    new_im.paste(old_im, ((target_image_size[0]-resized_size[0])/2, (target_image_size[1]-resized_size[1])/2))\n",
    "\n",
    "    # print \"New size: \" + str(new_im.size)\n",
    "\n",
    "  return new_im"
   ]
  },
  {
   "cell_type": "code",
   "execution_count": 6,
   "metadata": {
    "collapsed": true
   },
   "outputs": [],
   "source": [
    "def read_image(fp):\n",
    "\n",
    "    try:\n",
    "      old_im = Image.open(fp)\n",
    "\n",
    "      target_image_size = (IMGSIZE_X, IMGSIZE_Y)\n",
    "\n",
    "      new_im = resize_to_target_w_aspect_ratio(old_im, target_image_size)\n",
    "\n",
    "      formatted_fp = os.path.join(\"/tmp/\", str(uuid.uuid4()) + \".jpg\")\n",
    "\n",
    "      new_im.save(formatted_fp)\n",
    "\n",
    "      fmt_im = skimage.io.imread(formatted_fp, as_grey = False)\n",
    "\n",
    "      im = fmt_im.astype(np.float32)[:,:,0:3]\n",
    "\n",
    "      im[:,:,0] -= 103.939\n",
    "      im[:,:,1] -= 116.779\n",
    "      im[:,:,2] -= 123.68\n",
    "\n",
    "      # As per remarks here\n",
    "      #   https://gist.github.com/baraldilorenzo/07d7802847aaad0a35d3\n",
    "      #\n",
    "      # The VGG16 Model was trained on RGB colors. \n",
    "      # The openCV package used by the gist author uses BGR colors, that's why he had the \"transpose 201\" below.\n",
    "      im = im.transpose((2,0,1))\n",
    "\n",
    "      subprocess.check_call([\"rm\", formatted_fp])\n",
    "\n",
    "      return im\n",
    "    except:\n",
    "      return None"
   ]
  },
  {
   "cell_type": "code",
   "execution_count": 7,
   "metadata": {
    "collapsed": true
   },
   "outputs": [],
   "source": [
    "def eval_single_image(model, dir, filename):\n",
    "\n",
    "    fp = os.path.join(dir, filename)\n",
    "\n",
    "    im = read_image(fp)\n",
    "    im = np.expand_dims(im, axis=0)\n",
    "\n",
    "    out = model.predict(im)\n",
    "\n",
    "    return out"
   ]
  },
  {
   "cell_type": "code",
   "execution_count": 8,
   "metadata": {
    "collapsed": false
   },
   "outputs": [
    {
     "name": "stdout",
     "output_type": "stream",
     "text": [
      "____________________________________________________________________________________________________\n",
      "Layer (type)                     Output Shape          Param #     Connected to                     \n",
      "====================================================================================================\n",
      "zeropadding2d_1 (ZeroPadding2D)  (None, 3, 226, 226)   0           zeropadding2d_input_1[0][0]      \n",
      "____________________________________________________________________________________________________\n",
      "convolution2d_1 (Convolution2D)  (None, 64, 224, 224)  1792        zeropadding2d_1[0][0]            \n",
      "____________________________________________________________________________________________________\n",
      "zeropadding2d_2 (ZeroPadding2D)  (None, 64, 226, 226)  0           convolution2d_1[0][0]            \n",
      "____________________________________________________________________________________________________\n",
      "convolution2d_2 (Convolution2D)  (None, 64, 224, 224)  36928       zeropadding2d_2[0][0]            \n",
      "____________________________________________________________________________________________________\n",
      "maxpooling2d_1 (MaxPooling2D)    (None, 64, 112, 112)  0           convolution2d_2[0][0]            \n",
      "____________________________________________________________________________________________________\n",
      "zeropadding2d_3 (ZeroPadding2D)  (None, 64, 114, 114)  0           maxpooling2d_1[0][0]             \n",
      "____________________________________________________________________________________________________\n",
      "convolution2d_3 (Convolution2D)  (None, 128, 112, 112) 73856       zeropadding2d_3[0][0]            \n",
      "____________________________________________________________________________________________________\n",
      "zeropadding2d_4 (ZeroPadding2D)  (None, 128, 114, 114) 0           convolution2d_3[0][0]            \n",
      "____________________________________________________________________________________________________\n",
      "convolution2d_4 (Convolution2D)  (None, 128, 112, 112) 147584      zeropadding2d_4[0][0]            \n",
      "____________________________________________________________________________________________________\n",
      "maxpooling2d_2 (MaxPooling2D)    (None, 128, 56, 56)   0           convolution2d_4[0][0]            \n",
      "____________________________________________________________________________________________________\n",
      "zeropadding2d_5 (ZeroPadding2D)  (None, 128, 58, 58)   0           maxpooling2d_2[0][0]             \n",
      "____________________________________________________________________________________________________\n",
      "convolution2d_5 (Convolution2D)  (None, 256, 56, 56)   295168      zeropadding2d_5[0][0]            \n",
      "____________________________________________________________________________________________________\n",
      "zeropadding2d_6 (ZeroPadding2D)  (None, 256, 58, 58)   0           convolution2d_5[0][0]            \n",
      "____________________________________________________________________________________________________\n",
      "convolution2d_6 (Convolution2D)  (None, 256, 56, 56)   590080      zeropadding2d_6[0][0]            \n",
      "____________________________________________________________________________________________________\n",
      "zeropadding2d_7 (ZeroPadding2D)  (None, 256, 58, 58)   0           convolution2d_6[0][0]            \n",
      "____________________________________________________________________________________________________\n",
      "convolution2d_7 (Convolution2D)  (None, 256, 56, 56)   590080      zeropadding2d_7[0][0]            \n",
      "____________________________________________________________________________________________________\n",
      "maxpooling2d_3 (MaxPooling2D)    (None, 256, 28, 28)   0           convolution2d_7[0][0]            \n",
      "____________________________________________________________________________________________________\n",
      "zeropadding2d_8 (ZeroPadding2D)  (None, 256, 30, 30)   0           maxpooling2d_3[0][0]             \n",
      "____________________________________________________________________________________________________\n",
      "convolution2d_8 (Convolution2D)  (None, 512, 28, 28)   1180160     zeropadding2d_8[0][0]            \n",
      "____________________________________________________________________________________________________\n",
      "zeropadding2d_9 (ZeroPadding2D)  (None, 512, 30, 30)   0           convolution2d_8[0][0]            \n",
      "____________________________________________________________________________________________________\n",
      "convolution2d_9 (Convolution2D)  (None, 512, 28, 28)   2359808     zeropadding2d_9[0][0]            \n",
      "____________________________________________________________________________________________________\n",
      "zeropadding2d_10 (ZeroPadding2D) (None, 512, 30, 30)   0           convolution2d_9[0][0]            \n",
      "____________________________________________________________________________________________________\n",
      "convolution2d_10 (Convolution2D) (None, 512, 28, 28)   2359808     zeropadding2d_10[0][0]           \n",
      "____________________________________________________________________________________________________\n",
      "maxpooling2d_4 (MaxPooling2D)    (None, 512, 14, 14)   0           convolution2d_10[0][0]           \n",
      "____________________________________________________________________________________________________\n",
      "zeropadding2d_11 (ZeroPadding2D) (None, 512, 16, 16)   0           maxpooling2d_4[0][0]             \n",
      "____________________________________________________________________________________________________\n",
      "convolution2d_11 (Convolution2D) (None, 512, 14, 14)   2359808     zeropadding2d_11[0][0]           \n",
      "____________________________________________________________________________________________________\n",
      "zeropadding2d_12 (ZeroPadding2D) (None, 512, 16, 16)   0           convolution2d_11[0][0]           \n",
      "____________________________________________________________________________________________________\n",
      "convolution2d_12 (Convolution2D) (None, 512, 14, 14)   2359808     zeropadding2d_12[0][0]           \n",
      "____________________________________________________________________________________________________\n",
      "zeropadding2d_13 (ZeroPadding2D) (None, 512, 16, 16)   0           convolution2d_12[0][0]           \n",
      "____________________________________________________________________________________________________\n",
      "convolution2d_13 (Convolution2D) (None, 512, 14, 14)   2359808     zeropadding2d_13[0][0]           \n",
      "____________________________________________________________________________________________________\n",
      "maxpooling2d_5 (MaxPooling2D)    (None, 512, 7, 7)     0           convolution2d_13[0][0]           \n",
      "____________________________________________________________________________________________________\n",
      "flatten_1 (Flatten)              (None, 25088)         0           maxpooling2d_5[0][0]             \n",
      "____________________________________________________________________________________________________\n",
      "dense_1 (Dense)                  (None, 4096)          102764544   flatten_1[0][0]                  \n",
      "____________________________________________________________________________________________________\n",
      "dropout_1 (Dropout)              (None, 4096)          0           dense_1[0][0]                    \n",
      "____________________________________________________________________________________________________\n",
      "dense_2 (Dense)                  (None, 4096)          16781312    dropout_1[0][0]                  \n",
      "====================================================================================================\n",
      "Total params: 134260544\n",
      "____________________________________________________________________________________________________\n"
     ]
    }
   ],
   "source": [
    "# Get pretrained VGG16 model\n",
    "convnet = VGG_16(WEIGHTS_PATH)\n",
    "opt = RMSprop()\n",
    "\n",
    "# Chop off the sigmoid classification layer, and its dropout.\n",
    "# Note that this gives CNN codes that are 1 material layer back from softmax.\n",
    "# (This differs from your image regression project, where you popped 4 layers.)\n",
    "pop_layer(convnet)\n",
    "pop_layer(convnet)\n",
    "\n",
    "convnet.compile(optimizer=opt, loss='mse', metrics=['accuracy'])\n",
    "convnet.summary()\n"
   ]
  },
  {
   "cell_type": "code",
   "execution_count": 9,
   "metadata": {
    "collapsed": false
   },
   "outputs": [],
   "source": [
    "cnncode = eval_single_image(\n",
    "    model=convnet, \\\n",
    "    dir=os.path.join(DATA_DIR, 'train2014/'), \\\n",
    "    filename=\"COCO_train2014_000000575005.jpg\"\n",
    ")\n",
    "\n",
    "visionVec = np.array(\n",
    "    map(lambda x: float(\"{0:.3f}\".format(math.fabs(x))), cnncode.tolist()[0]),\n",
    "    dtype=np.float32)"
   ]
  },
  {
   "cell_type": "code",
   "execution_count": 10,
   "metadata": {
    "collapsed": false
   },
   "outputs": [],
   "source": [
    "# I could just use json.loads.\n",
    "# Not sure if jq and subprocess is faster. I will test this.\n",
    "ann_fp = os.path.join(DATA_DIR, 'annotations/captions_train2014.json')\n",
    "command_str = \"\"\"jq '.annotations[] | select(.image_id == 575005) | .caption' \"\"\" + ann_fp"
   ]
  },
  {
   "cell_type": "code",
   "execution_count": 11,
   "metadata": {
    "collapsed": false
   },
   "outputs": [
    {
     "data": {
      "text/plain": [
       "['A big black dog sits on a bench.',\n",
       " 'a black dog sitting on top of a bench on a deck ',\n",
       " 'A dog sits on a bench and looks near a rock.',\n",
       " 'A dog, sitting on a bench and looking out at a field.',\n",
       " 'a dog sitting on a bench with a field background']"
      ]
     },
     "execution_count": 11,
     "metadata": {},
     "output_type": "execute_result"
    }
   ],
   "source": [
    "jqproc = subprocess.Popen(command_str, stdout=subprocess.PIPE, stderr=subprocess.PIPE, shell=True)\n",
    "\n",
    "raw_annotations_str = jqproc.stdout.read()\n",
    "jqproc.stdout.close()\n",
    "\n",
    "annotations = map(lambda x: x.strip(\"\\\"\"), raw_annotations_str.strip(\"\\n\").split(\"\\n\"))\n",
    "\n",
    "annotations"
   ]
  },
  {
   "cell_type": "code",
   "execution_count": 12,
   "metadata": {
    "collapsed": false
   },
   "outputs": [
    {
     "name": "stdout",
     "output_type": "stream",
     "text": [
      "VisionVec:\n",
      "[ 0.          0.76800001  0.226      ...,  0.134       0.          0.        ]\n",
      "ThoughtVecs\n",
      "[[ 0.03089085 -0.00291646  0.00085856 ...,  0.04035544  0.00221435\n",
      "   0.00510866]\n",
      " [ 0.00700377  0.00281317 -0.0023839  ..., -0.00090943 -0.00421759\n",
      "   0.018409  ]\n",
      " [ 0.01431105 -0.00064932 -0.00479105 ...,  0.01551358  0.00222164\n",
      "   0.00468565]\n",
      " [-0.0065335  -0.00272198 -0.00567212 ..., -0.03972717  0.00386152\n",
      "   0.00798063]\n",
      " [ 0.00755459 -0.00116981 -0.00111263 ..., -0.0327839   0.01011139\n",
      "   0.0194642 ]]\n"
     ]
    }
   ],
   "source": [
    "thoughtVecs = skipthoughts.encode(model, annotations, verbose=False)\n",
    "\n",
    "print \"VisionVec:\"\n",
    "print visionVec\n",
    "print \"ThoughtVecs\"\n",
    "print thoughtVecs"
   ]
  },
  {
   "cell_type": "code",
   "execution_count": 13,
   "metadata": {
    "collapsed": true
   },
   "outputs": [],
   "source": [
    "old_im = Image.open(os.path.join(DATA_DIR, 'train2014/', 'COCO_train2014_000000575005.jpg'))"
   ]
  },
  {
   "cell_type": "code",
   "execution_count": 14,
   "metadata": {
    "collapsed": false
   },
   "outputs": [
    {
     "name": "stdout",
     "output_type": "stream",
     "text": [
      "A big black dog sits on a bench.\n",
      "a black dog sitting on top of a bench on a deck \n",
      "A dog sits on a bench and looks near a rock.\n",
      "A dog, sitting on a bench and looking out at a field.\n",
      "a dog sitting on a bench with a field background\n",
      "\n",
      "\n",
      "[ 0.03089085 -0.00291646  0.00085856 ...,  0.04035544  0.00221435\n",
      "  0.00510866]\n",
      "[ 0.00700377  0.00281317 -0.0023839  ..., -0.00090943 -0.00421759  0.018409  ]\n",
      "[ 0.01431105 -0.00064932 -0.00479105 ...,  0.01551358  0.00222164\n",
      "  0.00468565]\n",
      "[-0.0065335  -0.00272198 -0.00567212 ..., -0.03972717  0.00386152\n",
      "  0.00798063]\n",
      "[ 0.00755459 -0.00116981 -0.00111263 ..., -0.0327839   0.01011139\n",
      "  0.0194642 ]\n",
      "\n",
      "\n",
      "[ 0.          0.76800001  0.226      ...,  0.134       0.          0.        ]\n"
     ]
    },
    {
     "data": {
      "image/png": "[encoded data removed]",
      "text/plain": [
       "<matplotlib.figure.Figure at 0x11dcda350>"
      ]
     },
     "metadata": {},
     "output_type": "display_data"
    }
   ],
   "source": [
    "from matplotlib.pyplot import imshow\n",
    "import numpy as np\n",
    "from PIL import Image\n",
    "\n",
    "%matplotlib inline\n",
    "imshow(np.asarray(old_im))\n",
    "\n",
    "for i in range(0,len(annotations)):\n",
    "    print annotations[i]\n",
    "    \n",
    "print \"\\n\"\n",
    "\n",
    "for i in range(0,len(annotations)):\n",
    "    print thoughtVecs[i]\n",
    "    \n",
    "print \"\\n\"\n",
    "print visionVec"
   ]
  },
  {
   "cell_type": "code",
   "execution_count": null,
   "metadata": {
    "collapsed": false
   },
   "outputs": [],
   "source": []
  },
  {
   "cell_type": "code",
   "execution_count": 15,
   "metadata": {
    "collapsed": false
   },
   "outputs": [],
   "source": [
    "train_dir = os.path.join(DATA_DIR, 'train2014/')\n",
    "val_dir = os.path.join(DATA_DIR, 'val2014/')\n",
    "test_dir = os.path.join(DATA_DIR, 'test2014/')\n",
    "\n",
    "train_raw_output = subprocess.check_output([\"ls\", train_dir])\n",
    "val_raw_output = subprocess.check_output([\"ls\", val_dir])\n",
    "test_raw_output = subprocess.check_output([\"ls\", test_dir])\n",
    "\n",
    "train_image_filenames = train_raw_output.strip(\"\\n\").split(\"\\n\")\n",
    "val_image_filenames = val_raw_output.strip(\"\\n\").split(\"\\n\")\n",
    "test_image_filenames = test_raw_output.strip(\"\\n\").split(\"\\n\")\n",
    "\n",
    "import pandas as pd\n",
    "train_img_fs_df = pd.DataFrame(train_image_filenames, columns = [\"file_name\"])\n",
    "val_img_fs_df = pd.DataFrame(val_image_filenames, columns = [\"file_name\"])\n",
    "test_img_fs_df = pd.DataFrame(test_image_filenames, columns = [\"file_name\"])\n",
    "\n",
    "train_img_fs_df[\"file_path\"] = train_img_fs_df[\"file_name\"].apply(lambda x: os.path.join(train_dir, x))\n",
    "val_img_fs_df[\"file_path\"] = val_img_fs_df[\"file_name\"].apply(lambda x: os.path.join(val_dir, x))\n",
    "test_img_fs_df[\"file_path\"] = test_img_fs_df[\"file_name\"].apply(lambda x: os.path.join(test_dir, x))"
   ]
  },
  {
   "cell_type": "code",
   "execution_count": 16,
   "metadata": {
    "collapsed": false
   },
   "outputs": [
    {
     "data": {
      "text/plain": [
       "<bound method DataFrame.head of                              file_name  \\\n",
       "0      COCO_train2014_000000000009.jpg   \n",
       "1      COCO_train2014_000000000025.jpg   \n",
       "2      COCO_train2014_000000000030.jpg   \n",
       "3      COCO_train2014_000000000034.jpg   \n",
       "4      COCO_train2014_000000000036.jpg   \n",
       "5      COCO_train2014_000000000049.jpg   \n",
       "6      COCO_train2014_000000000061.jpg   \n",
       "7      COCO_train2014_000000000064.jpg   \n",
       "8      COCO_train2014_000000000071.jpg   \n",
       "9      COCO_train2014_000000000072.jpg   \n",
       "10     COCO_train2014_000000000077.jpg   \n",
       "11     COCO_train2014_000000000078.jpg   \n",
       "12     COCO_train2014_000000000081.jpg   \n",
       "13     COCO_train2014_000000000086.jpg   \n",
       "14     COCO_train2014_000000000089.jpg   \n",
       "15     COCO_train2014_000000000092.jpg   \n",
       "16     COCO_train2014_000000000094.jpg   \n",
       "17     COCO_train2014_000000000109.jpg   \n",
       "18     COCO_train2014_000000000110.jpg   \n",
       "19     COCO_train2014_000000000113.jpg   \n",
       "20     COCO_train2014_000000000127.jpg   \n",
       "21     COCO_train2014_000000000138.jpg   \n",
       "22     COCO_train2014_000000000142.jpg   \n",
       "23     COCO_train2014_000000000144.jpg   \n",
       "24     COCO_train2014_000000000149.jpg   \n",
       "25     COCO_train2014_000000000151.jpg   \n",
       "26     COCO_train2014_000000000154.jpg   \n",
       "27     COCO_train2014_000000000165.jpg   \n",
       "28     COCO_train2014_000000000194.jpg   \n",
       "29     COCO_train2014_000000000201.jpg   \n",
       "...                                ...   \n",
       "82753  COCO_train2014_000000581712.jpg   \n",
       "82754  COCO_train2014_000000581715.jpg   \n",
       "82755  COCO_train2014_000000581719.jpg   \n",
       "82756  COCO_train2014_000000581732.jpg   \n",
       "82757  COCO_train2014_000000581738.jpg   \n",
       "82758  COCO_train2014_000000581739.jpg   \n",
       "82759  COCO_train2014_000000581744.jpg   \n",
       "82760  COCO_train2014_000000581766.jpg   \n",
       "82761  COCO_train2014_000000581770.jpg   \n",
       "82762  COCO_train2014_000000581789.jpg   \n",
       "82763  COCO_train2014_000000581795.jpg   \n",
       "82764  COCO_train2014_000000581797.jpg   \n",
       "82765  COCO_train2014_000000581813.jpg   \n",
       "82766  COCO_train2014_000000581815.jpg   \n",
       "82767  COCO_train2014_000000581821.jpg   \n",
       "82768  COCO_train2014_000000581835.jpg   \n",
       "82769  COCO_train2014_000000581839.jpg   \n",
       "82770  COCO_train2014_000000581857.jpg   \n",
       "82771  COCO_train2014_000000581860.jpg   \n",
       "82772  COCO_train2014_000000581873.jpg   \n",
       "82773  COCO_train2014_000000581880.jpg   \n",
       "82774  COCO_train2014_000000581881.jpg   \n",
       "82775  COCO_train2014_000000581882.jpg   \n",
       "82776  COCO_train2014_000000581884.jpg   \n",
       "82777  COCO_train2014_000000581900.jpg   \n",
       "82778  COCO_train2014_000000581903.jpg   \n",
       "82779  COCO_train2014_000000581904.jpg   \n",
       "82780  COCO_train2014_000000581906.jpg   \n",
       "82781  COCO_train2014_000000581909.jpg   \n",
       "82782  COCO_train2014_000000581921.jpg   \n",
       "\n",
       "                                               file_path  \n",
       "0      /Users/lucaslingle/git/skip-thoughts/data/trai...  \n",
       "1      /Users/lucaslingle/git/skip-thoughts/data/trai...  \n",
       "2      /Users/lucaslingle/git/skip-thoughts/data/trai...  \n",
       "3      /Users/lucaslingle/git/skip-thoughts/data/trai...  \n",
       "4      /Users/lucaslingle/git/skip-thoughts/data/trai...  \n",
       "5      /Users/lucaslingle/git/skip-thoughts/data/trai...  \n",
       "6      /Users/lucaslingle/git/skip-thoughts/data/trai...  \n",
       "7      /Users/lucaslingle/git/skip-thoughts/data/trai...  \n",
       "8      /Users/lucaslingle/git/skip-thoughts/data/trai...  \n",
       "9      /Users/lucaslingle/git/skip-thoughts/data/trai...  \n",
       "10     /Users/lucaslingle/git/skip-thoughts/data/trai...  \n",
       "11     /Users/lucaslingle/git/skip-thoughts/data/trai...  \n",
       "12     /Users/lucaslingle/git/skip-thoughts/data/trai...  \n",
       "13     /Users/lucaslingle/git/skip-thoughts/data/trai...  \n",
       "14     /Users/lucaslingle/git/skip-thoughts/data/trai...  \n",
       "15     /Users/lucaslingle/git/skip-thoughts/data/trai...  \n",
       "16     /Users/lucaslingle/git/skip-thoughts/data/trai...  \n",
       "17     /Users/lucaslingle/git/skip-thoughts/data/trai...  \n",
       "18     /Users/lucaslingle/git/skip-thoughts/data/trai...  \n",
       "19     /Users/lucaslingle/git/skip-thoughts/data/trai...  \n",
       "20     /Users/lucaslingle/git/skip-thoughts/data/trai...  \n",
       "21     /Users/lucaslingle/git/skip-thoughts/data/trai...  \n",
       "22     /Users/lucaslingle/git/skip-thoughts/data/trai...  \n",
       "23     /Users/lucaslingle/git/skip-thoughts/data/trai...  \n",
       "24     /Users/lucaslingle/git/skip-thoughts/data/trai...  \n",
       "25     /Users/lucaslingle/git/skip-thoughts/data/trai...  \n",
       "26     /Users/lucaslingle/git/skip-thoughts/data/trai...  \n",
       "27     /Users/lucaslingle/git/skip-thoughts/data/trai...  \n",
       "28     /Users/lucaslingle/git/skip-thoughts/data/trai...  \n",
       "29     /Users/lucaslingle/git/skip-thoughts/data/trai...  \n",
       "...                                                  ...  \n",
       "82753  /Users/lucaslingle/git/skip-thoughts/data/trai...  \n",
       "82754  /Users/lucaslingle/git/skip-thoughts/data/trai...  \n",
       "82755  /Users/lucaslingle/git/skip-thoughts/data/trai...  \n",
       "82756  /Users/lucaslingle/git/skip-thoughts/data/trai...  \n",
       "82757  /Users/lucaslingle/git/skip-thoughts/data/trai...  \n",
       "82758  /Users/lucaslingle/git/skip-thoughts/data/trai...  \n",
       "82759  /Users/lucaslingle/git/skip-thoughts/data/trai...  \n",
       "82760  /Users/lucaslingle/git/skip-thoughts/data/trai...  \n",
       "82761  /Users/lucaslingle/git/skip-thoughts/data/trai...  \n",
       "82762  /Users/lucaslingle/git/skip-thoughts/data/trai...  \n",
       "82763  /Users/lucaslingle/git/skip-thoughts/data/trai...  \n",
       "82764  /Users/lucaslingle/git/skip-thoughts/data/trai...  \n",
       "82765  /Users/lucaslingle/git/skip-thoughts/data/trai...  \n",
       "82766  /Users/lucaslingle/git/skip-thoughts/data/trai...  \n",
       "82767  /Users/lucaslingle/git/skip-thoughts/data/trai...  \n",
       "82768  /Users/lucaslingle/git/skip-thoughts/data/trai...  \n",
       "82769  /Users/lucaslingle/git/skip-thoughts/data/trai...  \n",
       "82770  /Users/lucaslingle/git/skip-thoughts/data/trai...  \n",
       "82771  /Users/lucaslingle/git/skip-thoughts/data/trai...  \n",
       "82772  /Users/lucaslingle/git/skip-thoughts/data/trai...  \n",
       "82773  /Users/lucaslingle/git/skip-thoughts/data/trai...  \n",
       "82774  /Users/lucaslingle/git/skip-thoughts/data/trai...  \n",
       "82775  /Users/lucaslingle/git/skip-thoughts/data/trai...  \n",
       "82776  /Users/lucaslingle/git/skip-thoughts/data/trai...  \n",
       "82777  /Users/lucaslingle/git/skip-thoughts/data/trai...  \n",
       "82778  /Users/lucaslingle/git/skip-thoughts/data/trai...  \n",
       "82779  /Users/lucaslingle/git/skip-thoughts/data/trai...  \n",
       "82780  /Users/lucaslingle/git/skip-thoughts/data/trai...  \n",
       "82781  /Users/lucaslingle/git/skip-thoughts/data/trai...  \n",
       "82782  /Users/lucaslingle/git/skip-thoughts/data/trai...  \n",
       "\n",
       "[82783 rows x 2 columns]>"
      ]
     },
     "execution_count": 16,
     "metadata": {},
     "output_type": "execute_result"
    }
   ],
   "source": [
    "train_img_fs_df.head"
   ]
  },
  {
   "cell_type": "code",
   "execution_count": 17,
   "metadata": {
    "collapsed": false
   },
   "outputs": [],
   "source": [
    "import json\n",
    "\n",
    "with open(os.path.join(DATA_DIR, 'annotations/', 'captions_train2014.json')) as ann:\n",
    "  training_meta_json = json.load(ann)\n",
    "\n",
    "train_img_json = training_meta_json[\"images\"]\n",
    "train_ann_json = training_meta_json[\"annotations\"]"
   ]
  },
  {
   "cell_type": "code",
   "execution_count": 18,
   "metadata": {
    "collapsed": false
   },
   "outputs": [
    {
     "data": {
      "text/html": [
       "<div>\n",
       "<table border=\"1\" class=\"dataframe\">\n",
       "  <thead>\n",
       "    <tr style=\"text-align: right;\">\n",
       "      <th></th>\n",
       "      <th>caption</th>\n",
       "      <th>image_id</th>\n",
       "      <th>caption_id</th>\n",
       "    </tr>\n",
       "  </thead>\n",
       "  <tbody>\n",
       "    <tr>\n",
       "      <th>0</th>\n",
       "      <td>A very clean and well decorated empty bathroom</td>\n",
       "      <td>318556</td>\n",
       "      <td>48</td>\n",
       "    </tr>\n",
       "    <tr>\n",
       "      <th>1</th>\n",
       "      <td>A panoramic view of a kitchen and all of its a...</td>\n",
       "      <td>116100</td>\n",
       "      <td>67</td>\n",
       "    </tr>\n",
       "    <tr>\n",
       "      <th>2</th>\n",
       "      <td>A blue and white bathroom with butterfly theme...</td>\n",
       "      <td>318556</td>\n",
       "      <td>126</td>\n",
       "    </tr>\n",
       "    <tr>\n",
       "      <th>3</th>\n",
       "      <td>A panoramic photo of a kitchen and dining room</td>\n",
       "      <td>116100</td>\n",
       "      <td>148</td>\n",
       "    </tr>\n",
       "    <tr>\n",
       "      <th>4</th>\n",
       "      <td>A graffiti-ed stop sign across the street from...</td>\n",
       "      <td>379340</td>\n",
       "      <td>173</td>\n",
       "    </tr>\n",
       "    <tr>\n",
       "      <th>5</th>\n",
       "      <td>A vandalized stop sign and a red beetle on the...</td>\n",
       "      <td>379340</td>\n",
       "      <td>188</td>\n",
       "    </tr>\n",
       "    <tr>\n",
       "      <th>6</th>\n",
       "      <td>A bathroom with a border of butterflies and bl...</td>\n",
       "      <td>318556</td>\n",
       "      <td>219</td>\n",
       "    </tr>\n",
       "    <tr>\n",
       "      <th>7</th>\n",
       "      <td>An angled view of a beautifully decorated bath...</td>\n",
       "      <td>318556</td>\n",
       "      <td>255</td>\n",
       "    </tr>\n",
       "    <tr>\n",
       "      <th>8</th>\n",
       "      <td>The two people are walking down the beach.</td>\n",
       "      <td>134754</td>\n",
       "      <td>272</td>\n",
       "    </tr>\n",
       "    <tr>\n",
       "      <th>9</th>\n",
       "      <td>A sink and a toilet inside a small bathroom.</td>\n",
       "      <td>538480</td>\n",
       "      <td>288</td>\n",
       "    </tr>\n",
       "    <tr>\n",
       "      <th>10</th>\n",
       "      <td>An empty kitchen with white and black appliances.</td>\n",
       "      <td>476220</td>\n",
       "      <td>314</td>\n",
       "    </tr>\n",
       "    <tr>\n",
       "      <th>11</th>\n",
       "      <td>A white square kitchen with tile floor that ne...</td>\n",
       "      <td>299675</td>\n",
       "      <td>328</td>\n",
       "    </tr>\n",
       "    <tr>\n",
       "      <th>12</th>\n",
       "      <td>The vanity contains two sinks with a towel for...</td>\n",
       "      <td>32275</td>\n",
       "      <td>352</td>\n",
       "    </tr>\n",
       "    <tr>\n",
       "      <th>13</th>\n",
       "      <td>Several metal balls sit in the sand near a gro...</td>\n",
       "      <td>302443</td>\n",
       "      <td>411</td>\n",
       "    </tr>\n",
       "    <tr>\n",
       "      <th>14</th>\n",
       "      <td>Two people carrying surf boards on a beach.</td>\n",
       "      <td>134754</td>\n",
       "      <td>425</td>\n",
       "    </tr>\n",
       "    <tr>\n",
       "      <th>15</th>\n",
       "      <td>A kitchen with brown cabinets, tile backsplash...</td>\n",
       "      <td>25470</td>\n",
       "      <td>519</td>\n",
       "    </tr>\n",
       "    <tr>\n",
       "      <th>16</th>\n",
       "      <td>A surfer, a woman, and a child walk on the beach.</td>\n",
       "      <td>513461</td>\n",
       "      <td>572</td>\n",
       "    </tr>\n",
       "    <tr>\n",
       "      <th>17</th>\n",
       "      <td>A few people sit on a dim transportation system.</td>\n",
       "      <td>18691</td>\n",
       "      <td>653</td>\n",
       "    </tr>\n",
       "    <tr>\n",
       "      <th>18</th>\n",
       "      <td>A person, protected from the rain by their umb...</td>\n",
       "      <td>285579</td>\n",
       "      <td>668</td>\n",
       "    </tr>\n",
       "    <tr>\n",
       "      <th>19</th>\n",
       "      <td>The bathroom with a toilet has an interesting ...</td>\n",
       "      <td>266366</td>\n",
       "      <td>674</td>\n",
       "    </tr>\n",
       "    <tr>\n",
       "      <th>20</th>\n",
       "      <td>Two women preparing food in a kitchen, one at ...</td>\n",
       "      <td>226658</td>\n",
       "      <td>710</td>\n",
       "    </tr>\n",
       "    <tr>\n",
       "      <th>21</th>\n",
       "      <td>A white kitchen in a home with the light on.</td>\n",
       "      <td>299675</td>\n",
       "      <td>715</td>\n",
       "    </tr>\n",
       "    <tr>\n",
       "      <th>22</th>\n",
       "      <td>A cat stuck in a car with a slightly opened wi...</td>\n",
       "      <td>124567</td>\n",
       "      <td>729</td>\n",
       "    </tr>\n",
       "    <tr>\n",
       "      <th>23</th>\n",
       "      <td>Two bicycles and a woman walking in front of a...</td>\n",
       "      <td>293605</td>\n",
       "      <td>750</td>\n",
       "    </tr>\n",
       "    <tr>\n",
       "      <th>24</th>\n",
       "      <td>Green tiled backsplash highlighted by low over...</td>\n",
       "      <td>321194</td>\n",
       "      <td>760</td>\n",
       "    </tr>\n",
       "    <tr>\n",
       "      <th>25</th>\n",
       "      <td>A bicycle is parked by a bench at night.</td>\n",
       "      <td>479495</td>\n",
       "      <td>764</td>\n",
       "    </tr>\n",
       "    <tr>\n",
       "      <th>26</th>\n",
       "      <td>A brown horse is grazing grass near a red house.</td>\n",
       "      <td>539984</td>\n",
       "      <td>818</td>\n",
       "    </tr>\n",
       "    <tr>\n",
       "      <th>27</th>\n",
       "      <td>A black car is near someone riding a bike.</td>\n",
       "      <td>28231</td>\n",
       "      <td>819</td>\n",
       "    </tr>\n",
       "    <tr>\n",
       "      <th>28</th>\n",
       "      <td>White pedestal sink and toilet located in a po...</td>\n",
       "      <td>538480</td>\n",
       "      <td>873</td>\n",
       "    </tr>\n",
       "    <tr>\n",
       "      <th>29</th>\n",
       "      <td>This is a pick-up game of shirts and skins bas...</td>\n",
       "      <td>350235</td>\n",
       "      <td>877</td>\n",
       "    </tr>\n",
       "    <tr>\n",
       "      <th>...</th>\n",
       "      <td>...</td>\n",
       "      <td>...</td>\n",
       "      <td>...</td>\n",
       "    </tr>\n",
       "    <tr>\n",
       "      <th>414083</th>\n",
       "      <td>Her meal was sitting on the dining table acros...</td>\n",
       "      <td>64492</td>\n",
       "      <td>829033</td>\n",
       "    </tr>\n",
       "    <tr>\n",
       "      <th>414084</th>\n",
       "      <td>A clock on a wall beside a hidden camera.</td>\n",
       "      <td>538196</td>\n",
       "      <td>829068</td>\n",
       "    </tr>\n",
       "    <tr>\n",
       "      <th>414085</th>\n",
       "      <td>People in front of a tower which is located in...</td>\n",
       "      <td>434072</td>\n",
       "      <td>829142</td>\n",
       "    </tr>\n",
       "    <tr>\n",
       "      <th>414086</th>\n",
       "      <td>A person standing in front of a table putting ...</td>\n",
       "      <td>101355</td>\n",
       "      <td>829189</td>\n",
       "    </tr>\n",
       "    <tr>\n",
       "      <th>414087</th>\n",
       "      <td>a plate that has various foods on it</td>\n",
       "      <td>86285</td>\n",
       "      <td>829240</td>\n",
       "    </tr>\n",
       "    <tr>\n",
       "      <th>414088</th>\n",
       "      <td>a plate of various food on a table</td>\n",
       "      <td>410182</td>\n",
       "      <td>829245</td>\n",
       "    </tr>\n",
       "    <tr>\n",
       "      <th>414089</th>\n",
       "      <td>A happy woman sits on the couch while holding ...</td>\n",
       "      <td>434539</td>\n",
       "      <td>829263</td>\n",
       "    </tr>\n",
       "    <tr>\n",
       "      <th>414090</th>\n",
       "      <td>A pile of golden scissors sit in a neat pile o...</td>\n",
       "      <td>377397</td>\n",
       "      <td>829272</td>\n",
       "    </tr>\n",
       "    <tr>\n",
       "      <th>414091</th>\n",
       "      <td>A full fridge door sits open in an empty kitchen</td>\n",
       "      <td>383652</td>\n",
       "      <td>829299</td>\n",
       "    </tr>\n",
       "    <tr>\n",
       "      <th>414092</th>\n",
       "      <td>A table is covered in a display of candy bar b...</td>\n",
       "      <td>437318</td>\n",
       "      <td>829316</td>\n",
       "    </tr>\n",
       "    <tr>\n",
       "      <th>414093</th>\n",
       "      <td>Bread, sour cream, and guacamole are arrayed o...</td>\n",
       "      <td>133071</td>\n",
       "      <td>829358</td>\n",
       "    </tr>\n",
       "    <tr>\n",
       "      <th>414094</th>\n",
       "      <td>A couple of women with some stuffed animals.</td>\n",
       "      <td>180285</td>\n",
       "      <td>829395</td>\n",
       "    </tr>\n",
       "    <tr>\n",
       "      <th>414095</th>\n",
       "      <td>A plate of sandwiches and some french fries.</td>\n",
       "      <td>410182</td>\n",
       "      <td>829400</td>\n",
       "    </tr>\n",
       "    <tr>\n",
       "      <th>414096</th>\n",
       "      <td>A assortment of food and dishes on a table.</td>\n",
       "      <td>486936</td>\n",
       "      <td>829444</td>\n",
       "    </tr>\n",
       "    <tr>\n",
       "      <th>414097</th>\n",
       "      <td>A group of people sitting at a dining table.</td>\n",
       "      <td>511179</td>\n",
       "      <td>829447</td>\n",
       "    </tr>\n",
       "    <tr>\n",
       "      <th>414098</th>\n",
       "      <td>A white plate of food on a dining table.</td>\n",
       "      <td>133071</td>\n",
       "      <td>829471</td>\n",
       "    </tr>\n",
       "    <tr>\n",
       "      <th>414099</th>\n",
       "      <td>A open refrigerator door in a small kitchen.</td>\n",
       "      <td>383652</td>\n",
       "      <td>829505</td>\n",
       "    </tr>\n",
       "    <tr>\n",
       "      <th>414100</th>\n",
       "      <td>A refeigerator door is left open to shine its ...</td>\n",
       "      <td>383652</td>\n",
       "      <td>829529</td>\n",
       "    </tr>\n",
       "    <tr>\n",
       "      <th>414101</th>\n",
       "      <td>Plate with fries and three sandwiches topped w...</td>\n",
       "      <td>410182</td>\n",
       "      <td>829537</td>\n",
       "    </tr>\n",
       "    <tr>\n",
       "      <th>414102</th>\n",
       "      <td>a refrigerator stocked full and left open with...</td>\n",
       "      <td>383652</td>\n",
       "      <td>829574</td>\n",
       "    </tr>\n",
       "    <tr>\n",
       "      <th>414103</th>\n",
       "      <td>Fans pose with stuffed animals at an ice rink.</td>\n",
       "      <td>180285</td>\n",
       "      <td>829607</td>\n",
       "    </tr>\n",
       "    <tr>\n",
       "      <th>414104</th>\n",
       "      <td>Slider sandwiches served with fries are displa...</td>\n",
       "      <td>410182</td>\n",
       "      <td>829629</td>\n",
       "    </tr>\n",
       "    <tr>\n",
       "      <th>414105</th>\n",
       "      <td>The light from the open refrigerator fills the...</td>\n",
       "      <td>383652</td>\n",
       "      <td>829633</td>\n",
       "    </tr>\n",
       "    <tr>\n",
       "      <th>414106</th>\n",
       "      <td>Two women smiling together, one holds a stuffe...</td>\n",
       "      <td>180285</td>\n",
       "      <td>829636</td>\n",
       "    </tr>\n",
       "    <tr>\n",
       "      <th>414107</th>\n",
       "      <td>Two women smile for the camea while posing iwt...</td>\n",
       "      <td>180285</td>\n",
       "      <td>829653</td>\n",
       "    </tr>\n",
       "    <tr>\n",
       "      <th>414108</th>\n",
       "      <td>a slice of bread is covered with a sour cream ...</td>\n",
       "      <td>133071</td>\n",
       "      <td>829655</td>\n",
       "    </tr>\n",
       "    <tr>\n",
       "      <th>414109</th>\n",
       "      <td>A long plate hold some fries with some sliders...</td>\n",
       "      <td>410182</td>\n",
       "      <td>829658</td>\n",
       "    </tr>\n",
       "    <tr>\n",
       "      <th>414110</th>\n",
       "      <td>Two women sit and pose with stuffed animals.</td>\n",
       "      <td>180285</td>\n",
       "      <td>829665</td>\n",
       "    </tr>\n",
       "    <tr>\n",
       "      <th>414111</th>\n",
       "      <td>White Plate with a lot of guacamole and an ext...</td>\n",
       "      <td>133071</td>\n",
       "      <td>829693</td>\n",
       "    </tr>\n",
       "    <tr>\n",
       "      <th>414112</th>\n",
       "      <td>A dinner plate has a lemon wedge garnishment.</td>\n",
       "      <td>133071</td>\n",
       "      <td>829717</td>\n",
       "    </tr>\n",
       "  </tbody>\n",
       "</table>\n",
       "<p>414113 rows × 3 columns</p>\n",
       "</div>"
      ],
      "text/plain": [
       "                                                  caption  image_id  \\\n",
       "0          A very clean and well decorated empty bathroom    318556   \n",
       "1       A panoramic view of a kitchen and all of its a...    116100   \n",
       "2       A blue and white bathroom with butterfly theme...    318556   \n",
       "3          A panoramic photo of a kitchen and dining room    116100   \n",
       "4       A graffiti-ed stop sign across the street from...    379340   \n",
       "5       A vandalized stop sign and a red beetle on the...    379340   \n",
       "6       A bathroom with a border of butterflies and bl...    318556   \n",
       "7       An angled view of a beautifully decorated bath...    318556   \n",
       "8              The two people are walking down the beach.    134754   \n",
       "9            A sink and a toilet inside a small bathroom.    538480   \n",
       "10      An empty kitchen with white and black appliances.    476220   \n",
       "11      A white square kitchen with tile floor that ne...    299675   \n",
       "12      The vanity contains two sinks with a towel for...     32275   \n",
       "13      Several metal balls sit in the sand near a gro...    302443   \n",
       "14            Two people carrying surf boards on a beach.    134754   \n",
       "15      A kitchen with brown cabinets, tile backsplash...     25470   \n",
       "16      A surfer, a woman, and a child walk on the beach.    513461   \n",
       "17      A few people sit on a dim transportation system.      18691   \n",
       "18      A person, protected from the rain by their umb...    285579   \n",
       "19      The bathroom with a toilet has an interesting ...    266366   \n",
       "20      Two women preparing food in a kitchen, one at ...    226658   \n",
       "21           A white kitchen in a home with the light on.    299675   \n",
       "22      A cat stuck in a car with a slightly opened wi...    124567   \n",
       "23      Two bicycles and a woman walking in front of a...    293605   \n",
       "24      Green tiled backsplash highlighted by low over...    321194   \n",
       "25               A bicycle is parked by a bench at night.    479495   \n",
       "26       A brown horse is grazing grass near a red house.    539984   \n",
       "27             A black car is near someone riding a bike.     28231   \n",
       "28      White pedestal sink and toilet located in a po...    538480   \n",
       "29      This is a pick-up game of shirts and skins bas...    350235   \n",
       "...                                                   ...       ...   \n",
       "414083  Her meal was sitting on the dining table acros...     64492   \n",
       "414084          A clock on a wall beside a hidden camera.    538196   \n",
       "414085  People in front of a tower which is located in...    434072   \n",
       "414086  A person standing in front of a table putting ...    101355   \n",
       "414087               a plate that has various foods on it     86285   \n",
       "414088                 a plate of various food on a table    410182   \n",
       "414089  A happy woman sits on the couch while holding ...    434539   \n",
       "414090  A pile of golden scissors sit in a neat pile o...    377397   \n",
       "414091   A full fridge door sits open in an empty kitchen    383652   \n",
       "414092  A table is covered in a display of candy bar b...    437318   \n",
       "414093  Bread, sour cream, and guacamole are arrayed o...    133071   \n",
       "414094       A couple of women with some stuffed animals.    180285   \n",
       "414095       A plate of sandwiches and some french fries.    410182   \n",
       "414096        A assortment of food and dishes on a table.    486936   \n",
       "414097       A group of people sitting at a dining table.    511179   \n",
       "414098           A white plate of food on a dining table.    133071   \n",
       "414099       A open refrigerator door in a small kitchen.    383652   \n",
       "414100  A refeigerator door is left open to shine its ...    383652   \n",
       "414101  Plate with fries and three sandwiches topped w...    410182   \n",
       "414102  a refrigerator stocked full and left open with...    383652   \n",
       "414103     Fans pose with stuffed animals at an ice rink.    180285   \n",
       "414104  Slider sandwiches served with fries are displa...    410182   \n",
       "414105  The light from the open refrigerator fills the...    383652   \n",
       "414106  Two women smiling together, one holds a stuffe...    180285   \n",
       "414107  Two women smile for the camea while posing iwt...    180285   \n",
       "414108  a slice of bread is covered with a sour cream ...    133071   \n",
       "414109  A long plate hold some fries with some sliders...    410182   \n",
       "414110       Two women sit and pose with stuffed animals.    180285   \n",
       "414111  White Plate with a lot of guacamole and an ext...    133071   \n",
       "414112      A dinner plate has a lemon wedge garnishment.    133071   \n",
       "\n",
       "        caption_id  \n",
       "0               48  \n",
       "1               67  \n",
       "2              126  \n",
       "3              148  \n",
       "4              173  \n",
       "5              188  \n",
       "6              219  \n",
       "7              255  \n",
       "8              272  \n",
       "9              288  \n",
       "10             314  \n",
       "11             328  \n",
       "12             352  \n",
       "13             411  \n",
       "14             425  \n",
       "15             519  \n",
       "16             572  \n",
       "17             653  \n",
       "18             668  \n",
       "19             674  \n",
       "20             710  \n",
       "21             715  \n",
       "22             729  \n",
       "23             750  \n",
       "24             760  \n",
       "25             764  \n",
       "26             818  \n",
       "27             819  \n",
       "28             873  \n",
       "29             877  \n",
       "...            ...  \n",
       "414083      829033  \n",
       "414084      829068  \n",
       "414085      829142  \n",
       "414086      829189  \n",
       "414087      829240  \n",
       "414088      829245  \n",
       "414089      829263  \n",
       "414090      829272  \n",
       "414091      829299  \n",
       "414092      829316  \n",
       "414093      829358  \n",
       "414094      829395  \n",
       "414095      829400  \n",
       "414096      829444  \n",
       "414097      829447  \n",
       "414098      829471  \n",
       "414099      829505  \n",
       "414100      829529  \n",
       "414101      829537  \n",
       "414102      829574  \n",
       "414103      829607  \n",
       "414104      829629  \n",
       "414105      829633  \n",
       "414106      829636  \n",
       "414107      829653  \n",
       "414108      829655  \n",
       "414109      829658  \n",
       "414110      829665  \n",
       "414111      829693  \n",
       "414112      829717  \n",
       "\n",
       "[414113 rows x 3 columns]"
      ]
     },
     "execution_count": 18,
     "metadata": {},
     "output_type": "execute_result"
    }
   ],
   "source": [
    "from pandas.io.json import json_normalize\n",
    "\n",
    "train_img_json_df = json_normalize(train_img_json)\n",
    "train_ann_json_df = json_normalize(train_ann_json)\n",
    "\n",
    "train_img_json_df = train_img_json_df.drop('coco_url', 1)\n",
    "train_img_json_df = train_img_json_df.drop('date_captured', 1)\n",
    "train_img_json_df = train_img_json_df.drop('flickr_url', 1)\n",
    "train_img_json_df = train_img_json_df.drop('height', 1)\n",
    "train_img_json_df = train_img_json_df.drop('license', 1)\n",
    "train_img_json_df = train_img_json_df.drop('width', 1)\n",
    "\n",
    "train_img_json_df[\"image_id\"] = train_img_json_df[\"id\"]\n",
    "train_img_json_df = train_img_json_df.drop(\"id\", 1)\n",
    "\n",
    "train_ann_json_df[\"caption_id\"] = train_ann_json_df[\"id\"]\n",
    "train_ann_json_df = train_ann_json_df.drop(\"id\", 1)\n",
    "\n",
    "train_img_json_df.reset_index([\"image_id\"], drop = True)\n",
    "train_ann_json_df.reset_index([\"image_id\"], drop = True)"
   ]
  },
  {
   "cell_type": "code",
   "execution_count": 19,
   "metadata": {
    "collapsed": false
   },
   "outputs": [
    {
     "data": {
      "text/html": [
       "<div>\n",
       "<table border=\"1\" class=\"dataframe\">\n",
       "  <thead>\n",
       "    <tr style=\"text-align: right;\">\n",
       "      <th></th>\n",
       "      <th>file_name</th>\n",
       "      <th>image_id</th>\n",
       "    </tr>\n",
       "  </thead>\n",
       "  <tbody>\n",
       "    <tr>\n",
       "      <th>0</th>\n",
       "      <td>COCO_train2014_000000057870.jpg</td>\n",
       "      <td>57870</td>\n",
       "    </tr>\n",
       "    <tr>\n",
       "      <th>1</th>\n",
       "      <td>COCO_train2014_000000384029.jpg</td>\n",
       "      <td>384029</td>\n",
       "    </tr>\n",
       "    <tr>\n",
       "      <th>2</th>\n",
       "      <td>COCO_train2014_000000222016.jpg</td>\n",
       "      <td>222016</td>\n",
       "    </tr>\n",
       "    <tr>\n",
       "      <th>3</th>\n",
       "      <td>COCO_train2014_000000520950.jpg</td>\n",
       "      <td>520950</td>\n",
       "    </tr>\n",
       "    <tr>\n",
       "      <th>4</th>\n",
       "      <td>COCO_train2014_000000069675.jpg</td>\n",
       "      <td>69675</td>\n",
       "    </tr>\n",
       "    <tr>\n",
       "      <th>5</th>\n",
       "      <td>COCO_train2014_000000547471.jpg</td>\n",
       "      <td>547471</td>\n",
       "    </tr>\n",
       "    <tr>\n",
       "      <th>6</th>\n",
       "      <td>COCO_train2014_000000122688.jpg</td>\n",
       "      <td>122688</td>\n",
       "    </tr>\n",
       "    <tr>\n",
       "      <th>7</th>\n",
       "      <td>COCO_train2014_000000392136.jpg</td>\n",
       "      <td>392136</td>\n",
       "    </tr>\n",
       "    <tr>\n",
       "      <th>8</th>\n",
       "      <td>COCO_train2014_000000398494.jpg</td>\n",
       "      <td>398494</td>\n",
       "    </tr>\n",
       "    <tr>\n",
       "      <th>9</th>\n",
       "      <td>COCO_train2014_000000090570.jpg</td>\n",
       "      <td>90570</td>\n",
       "    </tr>\n",
       "    <tr>\n",
       "      <th>10</th>\n",
       "      <td>COCO_train2014_000000504616.jpg</td>\n",
       "      <td>504616</td>\n",
       "    </tr>\n",
       "    <tr>\n",
       "      <th>11</th>\n",
       "      <td>COCO_train2014_000000161919.jpg</td>\n",
       "      <td>161919</td>\n",
       "    </tr>\n",
       "    <tr>\n",
       "      <th>12</th>\n",
       "      <td>COCO_train2014_000000457732.jpg</td>\n",
       "      <td>457732</td>\n",
       "    </tr>\n",
       "    <tr>\n",
       "      <th>13</th>\n",
       "      <td>COCO_train2014_000000044404.jpg</td>\n",
       "      <td>44404</td>\n",
       "    </tr>\n",
       "    <tr>\n",
       "      <th>14</th>\n",
       "      <td>COCO_train2014_000000004428.jpg</td>\n",
       "      <td>4428</td>\n",
       "    </tr>\n",
       "    <tr>\n",
       "      <th>15</th>\n",
       "      <td>COCO_train2014_000000170558.jpg</td>\n",
       "      <td>170558</td>\n",
       "    </tr>\n",
       "    <tr>\n",
       "      <th>16</th>\n",
       "      <td>COCO_train2014_000000405613.jpg</td>\n",
       "      <td>405613</td>\n",
       "    </tr>\n",
       "    <tr>\n",
       "      <th>17</th>\n",
       "      <td>COCO_train2014_000000283524.jpg</td>\n",
       "      <td>283524</td>\n",
       "    </tr>\n",
       "    <tr>\n",
       "      <th>18</th>\n",
       "      <td>COCO_train2014_000000037015.jpg</td>\n",
       "      <td>37015</td>\n",
       "    </tr>\n",
       "    <tr>\n",
       "      <th>19</th>\n",
       "      <td>COCO_train2014_000000071631.jpg</td>\n",
       "      <td>71631</td>\n",
       "    </tr>\n",
       "    <tr>\n",
       "      <th>20</th>\n",
       "      <td>COCO_train2014_000000491269.jpg</td>\n",
       "      <td>491269</td>\n",
       "    </tr>\n",
       "    <tr>\n",
       "      <th>21</th>\n",
       "      <td>COCO_train2014_000000365363.jpg</td>\n",
       "      <td>365363</td>\n",
       "    </tr>\n",
       "    <tr>\n",
       "      <th>22</th>\n",
       "      <td>COCO_train2014_000000064460.jpg</td>\n",
       "      <td>64460</td>\n",
       "    </tr>\n",
       "    <tr>\n",
       "      <th>23</th>\n",
       "      <td>COCO_train2014_000000581674.jpg</td>\n",
       "      <td>581674</td>\n",
       "    </tr>\n",
       "    <tr>\n",
       "      <th>24</th>\n",
       "      <td>COCO_train2014_000000470072.jpg</td>\n",
       "      <td>470072</td>\n",
       "    </tr>\n",
       "    <tr>\n",
       "      <th>25</th>\n",
       "      <td>COCO_train2014_000000344806.jpg</td>\n",
       "      <td>344806</td>\n",
       "    </tr>\n",
       "    <tr>\n",
       "      <th>26</th>\n",
       "      <td>COCO_train2014_000000084427.jpg</td>\n",
       "      <td>84427</td>\n",
       "    </tr>\n",
       "    <tr>\n",
       "      <th>27</th>\n",
       "      <td>COCO_train2014_000000317237.jpg</td>\n",
       "      <td>317237</td>\n",
       "    </tr>\n",
       "    <tr>\n",
       "      <th>28</th>\n",
       "      <td>COCO_train2014_000000409382.jpg</td>\n",
       "      <td>409382</td>\n",
       "    </tr>\n",
       "    <tr>\n",
       "      <th>29</th>\n",
       "      <td>COCO_train2014_000000570608.jpg</td>\n",
       "      <td>570608</td>\n",
       "    </tr>\n",
       "    <tr>\n",
       "      <th>...</th>\n",
       "      <td>...</td>\n",
       "      <td>...</td>\n",
       "    </tr>\n",
       "    <tr>\n",
       "      <th>82753</th>\n",
       "      <td>COCO_train2014_000000400218.jpg</td>\n",
       "      <td>400218</td>\n",
       "    </tr>\n",
       "    <tr>\n",
       "      <th>82754</th>\n",
       "      <td>COCO_train2014_000000339278.jpg</td>\n",
       "      <td>339278</td>\n",
       "    </tr>\n",
       "    <tr>\n",
       "      <th>82755</th>\n",
       "      <td>COCO_train2014_000000439057.jpg</td>\n",
       "      <td>439057</td>\n",
       "    </tr>\n",
       "    <tr>\n",
       "      <th>82756</th>\n",
       "      <td>COCO_train2014_000000220453.jpg</td>\n",
       "      <td>220453</td>\n",
       "    </tr>\n",
       "    <tr>\n",
       "      <th>82757</th>\n",
       "      <td>COCO_train2014_000000019181.jpg</td>\n",
       "      <td>19181</td>\n",
       "    </tr>\n",
       "    <tr>\n",
       "      <th>82758</th>\n",
       "      <td>COCO_train2014_000000451701.jpg</td>\n",
       "      <td>451701</td>\n",
       "    </tr>\n",
       "    <tr>\n",
       "      <th>82759</th>\n",
       "      <td>COCO_train2014_000000348597.jpg</td>\n",
       "      <td>348597</td>\n",
       "    </tr>\n",
       "    <tr>\n",
       "      <th>82760</th>\n",
       "      <td>COCO_train2014_000000226055.jpg</td>\n",
       "      <td>226055</td>\n",
       "    </tr>\n",
       "    <tr>\n",
       "      <th>82761</th>\n",
       "      <td>COCO_train2014_000000309695.jpg</td>\n",
       "      <td>309695</td>\n",
       "    </tr>\n",
       "    <tr>\n",
       "      <th>82762</th>\n",
       "      <td>COCO_train2014_000000395293.jpg</td>\n",
       "      <td>395293</td>\n",
       "    </tr>\n",
       "    <tr>\n",
       "      <th>82763</th>\n",
       "      <td>COCO_train2014_000000342307.jpg</td>\n",
       "      <td>342307</td>\n",
       "    </tr>\n",
       "    <tr>\n",
       "      <th>82764</th>\n",
       "      <td>COCO_train2014_000000099671.jpg</td>\n",
       "      <td>99671</td>\n",
       "    </tr>\n",
       "    <tr>\n",
       "      <th>82765</th>\n",
       "      <td>COCO_train2014_000000143095.jpg</td>\n",
       "      <td>143095</td>\n",
       "    </tr>\n",
       "    <tr>\n",
       "      <th>82766</th>\n",
       "      <td>COCO_train2014_000000180682.jpg</td>\n",
       "      <td>180682</td>\n",
       "    </tr>\n",
       "    <tr>\n",
       "      <th>82767</th>\n",
       "      <td>COCO_train2014_000000432062.jpg</td>\n",
       "      <td>432062</td>\n",
       "    </tr>\n",
       "    <tr>\n",
       "      <th>82768</th>\n",
       "      <td>COCO_train2014_000000347405.jpg</td>\n",
       "      <td>347405</td>\n",
       "    </tr>\n",
       "    <tr>\n",
       "      <th>82769</th>\n",
       "      <td>COCO_train2014_000000056550.jpg</td>\n",
       "      <td>56550</td>\n",
       "    </tr>\n",
       "    <tr>\n",
       "      <th>82770</th>\n",
       "      <td>COCO_train2014_000000390608.jpg</td>\n",
       "      <td>390608</td>\n",
       "    </tr>\n",
       "    <tr>\n",
       "      <th>82771</th>\n",
       "      <td>COCO_train2014_000000227675.jpg</td>\n",
       "      <td>227675</td>\n",
       "    </tr>\n",
       "    <tr>\n",
       "      <th>82772</th>\n",
       "      <td>COCO_train2014_000000117327.jpg</td>\n",
       "      <td>117327</td>\n",
       "    </tr>\n",
       "    <tr>\n",
       "      <th>82773</th>\n",
       "      <td>COCO_train2014_000000135676.jpg</td>\n",
       "      <td>135676</td>\n",
       "    </tr>\n",
       "    <tr>\n",
       "      <th>82774</th>\n",
       "      <td>COCO_train2014_000000155379.jpg</td>\n",
       "      <td>155379</td>\n",
       "    </tr>\n",
       "    <tr>\n",
       "      <th>82775</th>\n",
       "      <td>COCO_train2014_000000053136.jpg</td>\n",
       "      <td>53136</td>\n",
       "    </tr>\n",
       "    <tr>\n",
       "      <th>82776</th>\n",
       "      <td>COCO_train2014_000000360271.jpg</td>\n",
       "      <td>360271</td>\n",
       "    </tr>\n",
       "    <tr>\n",
       "      <th>82777</th>\n",
       "      <td>COCO_train2014_000000471345.jpg</td>\n",
       "      <td>471345</td>\n",
       "    </tr>\n",
       "    <tr>\n",
       "      <th>82778</th>\n",
       "      <td>COCO_train2014_000000444010.jpg</td>\n",
       "      <td>444010</td>\n",
       "    </tr>\n",
       "    <tr>\n",
       "      <th>82779</th>\n",
       "      <td>COCO_train2014_000000565004.jpg</td>\n",
       "      <td>565004</td>\n",
       "    </tr>\n",
       "    <tr>\n",
       "      <th>82780</th>\n",
       "      <td>COCO_train2014_000000516168.jpg</td>\n",
       "      <td>516168</td>\n",
       "    </tr>\n",
       "    <tr>\n",
       "      <th>82781</th>\n",
       "      <td>COCO_train2014_000000547503.jpg</td>\n",
       "      <td>547503</td>\n",
       "    </tr>\n",
       "    <tr>\n",
       "      <th>82782</th>\n",
       "      <td>COCO_train2014_000000475546.jpg</td>\n",
       "      <td>475546</td>\n",
       "    </tr>\n",
       "  </tbody>\n",
       "</table>\n",
       "<p>82783 rows × 2 columns</p>\n",
       "</div>"
      ],
      "text/plain": [
       "                             file_name  image_id\n",
       "0      COCO_train2014_000000057870.jpg     57870\n",
       "1      COCO_train2014_000000384029.jpg    384029\n",
       "2      COCO_train2014_000000222016.jpg    222016\n",
       "3      COCO_train2014_000000520950.jpg    520950\n",
       "4      COCO_train2014_000000069675.jpg     69675\n",
       "5      COCO_train2014_000000547471.jpg    547471\n",
       "6      COCO_train2014_000000122688.jpg    122688\n",
       "7      COCO_train2014_000000392136.jpg    392136\n",
       "8      COCO_train2014_000000398494.jpg    398494\n",
       "9      COCO_train2014_000000090570.jpg     90570\n",
       "10     COCO_train2014_000000504616.jpg    504616\n",
       "11     COCO_train2014_000000161919.jpg    161919\n",
       "12     COCO_train2014_000000457732.jpg    457732\n",
       "13     COCO_train2014_000000044404.jpg     44404\n",
       "14     COCO_train2014_000000004428.jpg      4428\n",
       "15     COCO_train2014_000000170558.jpg    170558\n",
       "16     COCO_train2014_000000405613.jpg    405613\n",
       "17     COCO_train2014_000000283524.jpg    283524\n",
       "18     COCO_train2014_000000037015.jpg     37015\n",
       "19     COCO_train2014_000000071631.jpg     71631\n",
       "20     COCO_train2014_000000491269.jpg    491269\n",
       "21     COCO_train2014_000000365363.jpg    365363\n",
       "22     COCO_train2014_000000064460.jpg     64460\n",
       "23     COCO_train2014_000000581674.jpg    581674\n",
       "24     COCO_train2014_000000470072.jpg    470072\n",
       "25     COCO_train2014_000000344806.jpg    344806\n",
       "26     COCO_train2014_000000084427.jpg     84427\n",
       "27     COCO_train2014_000000317237.jpg    317237\n",
       "28     COCO_train2014_000000409382.jpg    409382\n",
       "29     COCO_train2014_000000570608.jpg    570608\n",
       "...                                ...       ...\n",
       "82753  COCO_train2014_000000400218.jpg    400218\n",
       "82754  COCO_train2014_000000339278.jpg    339278\n",
       "82755  COCO_train2014_000000439057.jpg    439057\n",
       "82756  COCO_train2014_000000220453.jpg    220453\n",
       "82757  COCO_train2014_000000019181.jpg     19181\n",
       "82758  COCO_train2014_000000451701.jpg    451701\n",
       "82759  COCO_train2014_000000348597.jpg    348597\n",
       "82760  COCO_train2014_000000226055.jpg    226055\n",
       "82761  COCO_train2014_000000309695.jpg    309695\n",
       "82762  COCO_train2014_000000395293.jpg    395293\n",
       "82763  COCO_train2014_000000342307.jpg    342307\n",
       "82764  COCO_train2014_000000099671.jpg     99671\n",
       "82765  COCO_train2014_000000143095.jpg    143095\n",
       "82766  COCO_train2014_000000180682.jpg    180682\n",
       "82767  COCO_train2014_000000432062.jpg    432062\n",
       "82768  COCO_train2014_000000347405.jpg    347405\n",
       "82769  COCO_train2014_000000056550.jpg     56550\n",
       "82770  COCO_train2014_000000390608.jpg    390608\n",
       "82771  COCO_train2014_000000227675.jpg    227675\n",
       "82772  COCO_train2014_000000117327.jpg    117327\n",
       "82773  COCO_train2014_000000135676.jpg    135676\n",
       "82774  COCO_train2014_000000155379.jpg    155379\n",
       "82775  COCO_train2014_000000053136.jpg     53136\n",
       "82776  COCO_train2014_000000360271.jpg    360271\n",
       "82777  COCO_train2014_000000471345.jpg    471345\n",
       "82778  COCO_train2014_000000444010.jpg    444010\n",
       "82779  COCO_train2014_000000565004.jpg    565004\n",
       "82780  COCO_train2014_000000516168.jpg    516168\n",
       "82781  COCO_train2014_000000547503.jpg    547503\n",
       "82782  COCO_train2014_000000475546.jpg    475546\n",
       "\n",
       "[82783 rows x 2 columns]"
      ]
     },
     "execution_count": 19,
     "metadata": {},
     "output_type": "execute_result"
    }
   ],
   "source": [
    "train_img_json_df"
   ]
  },
  {
   "cell_type": "code",
   "execution_count": 20,
   "metadata": {
    "collapsed": false
   },
   "outputs": [],
   "source": [
    "import pandas as pd\n",
    "train_joined_df = pd.merge(train_img_json_df, train_ann_json_df, on=['image_id'])"
   ]
  },
  {
   "cell_type": "code",
   "execution_count": 21,
   "metadata": {
    "collapsed": false
   },
   "outputs": [
    {
     "data": {
      "text/plain": [
       "(414113, 4)"
      ]
     },
     "execution_count": 21,
     "metadata": {},
     "output_type": "execute_result"
    }
   ],
   "source": [
    "train_joined_df.shape"
   ]
  },
  {
   "cell_type": "code",
   "execution_count": 22,
   "metadata": {
    "collapsed": false
   },
   "outputs": [
    {
     "name": "stdout",
     "output_type": "stream",
     "text": [
      "Sanity Checks:\n",
      "[  OK   ] Training Data Sanity Check: Filesystem vs JSON Metadata\n",
      "[ ERROR ] Training Data Sanity Check: Five Annotations for all training images?\n",
      "\t  values_to_match2: [82783, 82783, 82783, 82783, 82783, 82822, 82822]\n"
     ]
    }
   ],
   "source": [
    "print \"Sanity Checks:\"\n",
    "\n",
    "nr_img_files_in_joined_df = train_joined_df[\"file_name\"].nunique()\n",
    "nr_img_files_in_img_json_df = train_img_json_df[\"file_name\"].nunique()\n",
    "nr_img_files_in_img_fs_df = train_img_fs_df[\"file_name\"].nunique()\n",
    "\n",
    "nr_rows_in_img_json_df = train_img_json_df.shape[0]\n",
    "nr_rows_in_img_fs_df = train_img_fs_df.shape[0]\n",
    "\n",
    "values_to_match = []\n",
    "values_to_match += [nr_img_files_in_joined_df]\n",
    "values_to_match += [nr_img_files_in_img_json_df]\n",
    "values_to_match += [nr_img_files_in_img_fs_df]\n",
    "values_to_match += [nr_rows_in_img_json_df]\n",
    "values_to_match += [nr_rows_in_img_fs_df]\n",
    "\n",
    "if (len(set(values_to_match)) == 1):\n",
    "    print \"[  OK   ] Training Data Sanity Check: Filesystem vs JSON Metadata\"\n",
    "else:\n",
    "    print \"[ ERROR ] Training Data Sanity Check: Filesystem vs JSON Metadata\"\n",
    "    print \"\\t  values_to_match: \" + values_to_match\n",
    "\n",
    "nr_rows_in_joined_df = train_joined_df.shape[0]\n",
    "nr_rows_in_ann_json_df = train_ann_json_df.shape[0]\n",
    "values_to_match2 = values_to_match + [nr_rows_in_joined_df / 5] + [nr_rows_in_ann_json_df / 5]\n",
    "\n",
    "# Need to investigate why this check isn't passing. \n",
    "# Is there really not 5 annotations for all training images? That would be unexpected.\n",
    "if (len(set(values_to_match2)) == 1):\n",
    "    print \"[  OK   ] Training Data Sanity Check: Five Annotations for all training images?\"\n",
    "else:\n",
    "    print \"[ ERROR ] Training Data Sanity Check: Five Annotations for all training images?\"\n",
    "    print \"\\t  values_to_match2: \" + values_to_match2.__repr__()"
   ]
  },
  {
   "cell_type": "code",
   "execution_count": 23,
   "metadata": {
    "collapsed": false
   },
   "outputs": [
    {
     "data": {
      "text/html": [
       "<div>\n",
       "<table border=\"1\" class=\"dataframe\">\n",
       "  <thead>\n",
       "    <tr style=\"text-align: right;\">\n",
       "      <th></th>\n",
       "      <th>file_name</th>\n",
       "      <th>image_id</th>\n",
       "      <th>caption</th>\n",
       "      <th>caption_id</th>\n",
       "    </tr>\n",
       "  </thead>\n",
       "  <tbody>\n",
       "    <tr>\n",
       "      <th>0</th>\n",
       "      <td>COCO_train2014_000000057870.jpg</td>\n",
       "      <td>57870</td>\n",
       "      <td>A restaurant has modern wooden tables and chairs.</td>\n",
       "      <td>787980</td>\n",
       "    </tr>\n",
       "    <tr>\n",
       "      <th>1</th>\n",
       "      <td>COCO_train2014_000000057870.jpg</td>\n",
       "      <td>57870</td>\n",
       "      <td>A long restaurant table with rattan rounded ba...</td>\n",
       "      <td>789366</td>\n",
       "    </tr>\n",
       "    <tr>\n",
       "      <th>2</th>\n",
       "      <td>COCO_train2014_000000057870.jpg</td>\n",
       "      <td>57870</td>\n",
       "      <td>a long table with a plant on top of it surroun...</td>\n",
       "      <td>789888</td>\n",
       "    </tr>\n",
       "    <tr>\n",
       "      <th>3</th>\n",
       "      <td>COCO_train2014_000000057870.jpg</td>\n",
       "      <td>57870</td>\n",
       "      <td>A long table with a flower arrangement in the ...</td>\n",
       "      <td>791316</td>\n",
       "    </tr>\n",
       "    <tr>\n",
       "      <th>4</th>\n",
       "      <td>COCO_train2014_000000057870.jpg</td>\n",
       "      <td>57870</td>\n",
       "      <td>A table is adorned with wooden chairs with blu...</td>\n",
       "      <td>794853</td>\n",
       "    </tr>\n",
       "    <tr>\n",
       "      <th>5</th>\n",
       "      <td>COCO_train2014_000000384029.jpg</td>\n",
       "      <td>384029</td>\n",
       "      <td>A man preparing desserts in a kitchen covered ...</td>\n",
       "      <td>118034</td>\n",
       "    </tr>\n",
       "    <tr>\n",
       "      <th>6</th>\n",
       "      <td>COCO_train2014_000000384029.jpg</td>\n",
       "      <td>384029</td>\n",
       "      <td>A chef is preparing and decorating many small ...</td>\n",
       "      <td>157682</td>\n",
       "    </tr>\n",
       "    <tr>\n",
       "      <th>7</th>\n",
       "      <td>COCO_train2014_000000384029.jpg</td>\n",
       "      <td>384029</td>\n",
       "      <td>A baker prepares various types of baked goods.</td>\n",
       "      <td>159179</td>\n",
       "    </tr>\n",
       "    <tr>\n",
       "      <th>8</th>\n",
       "      <td>COCO_train2014_000000384029.jpg</td>\n",
       "      <td>384029</td>\n",
       "      <td>a close up of a person grabbing a pastry in a ...</td>\n",
       "      <td>175826</td>\n",
       "    </tr>\n",
       "    <tr>\n",
       "      <th>9</th>\n",
       "      <td>COCO_train2014_000000384029.jpg</td>\n",
       "      <td>384029</td>\n",
       "      <td>Close up of a hand touching various pastries.</td>\n",
       "      <td>185540</td>\n",
       "    </tr>\n",
       "  </tbody>\n",
       "</table>\n",
       "</div>"
      ],
      "text/plain": [
       "                         file_name  image_id  \\\n",
       "0  COCO_train2014_000000057870.jpg     57870   \n",
       "1  COCO_train2014_000000057870.jpg     57870   \n",
       "2  COCO_train2014_000000057870.jpg     57870   \n",
       "3  COCO_train2014_000000057870.jpg     57870   \n",
       "4  COCO_train2014_000000057870.jpg     57870   \n",
       "5  COCO_train2014_000000384029.jpg    384029   \n",
       "6  COCO_train2014_000000384029.jpg    384029   \n",
       "7  COCO_train2014_000000384029.jpg    384029   \n",
       "8  COCO_train2014_000000384029.jpg    384029   \n",
       "9  COCO_train2014_000000384029.jpg    384029   \n",
       "\n",
       "                                             caption  caption_id  \n",
       "0  A restaurant has modern wooden tables and chairs.      787980  \n",
       "1  A long restaurant table with rattan rounded ba...      789366  \n",
       "2  a long table with a plant on top of it surroun...      789888  \n",
       "3  A long table with a flower arrangement in the ...      791316  \n",
       "4  A table is adorned with wooden chairs with blu...      794853  \n",
       "5  A man preparing desserts in a kitchen covered ...      118034  \n",
       "6  A chef is preparing and decorating many small ...      157682  \n",
       "7     A baker prepares various types of baked goods.      159179  \n",
       "8  a close up of a person grabbing a pastry in a ...      175826  \n",
       "9      Close up of a hand touching various pastries.      185540  "
      ]
     },
     "execution_count": 23,
     "metadata": {},
     "output_type": "execute_result"
    }
   ],
   "source": [
    "train_joined_df.iloc[0:10]"
   ]
  },
  {
   "cell_type": "code",
   "execution_count": 24,
   "metadata": {
    "collapsed": true
   },
   "outputs": [],
   "source": [
    "def get_visionvec(image_dir, filename):  \n",
    "    cnncode = eval_single_image(\n",
    "            model=convnet, \\\n",
    "            dir=train_dir, \\\n",
    "            filename=file_name\n",
    "        )\n",
    "    \n",
    "    visionVec = np.array(\n",
    "          cnncode.tolist()[0],\n",
    "          dtype=np.float32)\n",
    "    \n",
    "    return visionVec"
   ]
  },
  {
   "cell_type": "code",
   "execution_count": 25,
   "metadata": {
    "collapsed": true
   },
   "outputs": [],
   "source": [
    "modified_train_joined_df = train_joined_df.groupby(\"image_id\").filter(lambda x: len(x) == 5)"
   ]
  },
  {
   "cell_type": "code",
   "execution_count": 26,
   "metadata": {
    "collapsed": false
   },
   "outputs": [
    {
     "name": "stdout",
     "output_type": "stream",
     "text": [
      "(414113, 4)\n",
      "(412930, 4)\n",
      "[  OK   ] Training Data Sanity Check: Filtered for 5 annotations per image, and results are divisible by 5.\n"
     ]
    }
   ],
   "source": [
    "print train_joined_df.shape\n",
    "print modified_train_joined_df.shape\n",
    "\n",
    "if modified_train_joined_df.shape[0] % 5 != 0:\n",
    "    print \"[ ERROR ] Training Data Sanity Check: Filtered for 5 annotations per image, but results not divisible by 5.\"\n",
    "else:\n",
    "    print \"[  OK   ] Training Data Sanity Check: Filtered for 5 annotations per image, and results divisible by 5.\""
   ]
  },
  {
   "cell_type": "code",
   "execution_count": 27,
   "metadata": {
    "collapsed": true
   },
   "outputs": [],
   "source": [
    "def get_time_str():\n",
    "    return datetime.datetime.now().strftime(\"%Y-%m-%d.%H.%M.%S\")\n",
    "\n",
    "def print_time_str():\n",
    "    print get_time_str()"
   ]
  },
  {
   "cell_type": "code",
   "execution_count": 28,
   "metadata": {
    "collapsed": false
   },
   "outputs": [
    {
     "name": "stdout",
     "output_type": "stream",
     "text": [
      "THOUGHTVECS_PRECOMPUTED: True\n",
      "2016-12-30.17.37.10\n",
      "2016-12-30.17.38.09\n"
     ]
    }
   ],
   "source": [
    "train_joined_df_columns = modified_train_joined_df.columns\n",
    "\n",
    "colNameToIdxMap = dict()\n",
    "for i in range(1, len(train_joined_df_columns)+1):\n",
    "    colNameToIdxMap[train_joined_df.columns[i-1]] = i\n",
    "\n",
    "NR_TOTAL_SAMPLES =  modified_train_joined_df.shape[0]\n",
    "NR_VAL_SAMPLES = 10000\n",
    "NR_TRAIN_SAMPLES = NR_TOTAL_SAMPLES - NR_VAL_SAMPLES   \n",
    "# In the future, the NR_TRAIN_SAMPLES variable could be \n",
    "# smaller than simply NR_TOTAL_SAMPLES - NR_VAL_SAMPLES,\n",
    "# e.g., to expedite testing.\n",
    "\n",
    "caption_trainval_data = modified_train_joined_df[\"caption\"].iloc[0:(NR_VAL_SAMPLES+NR_TRAIN_SAMPLES)].tolist()\n",
    "caption_validation_data = caption_trainval_data[0:NR_VAL_SAMPLES]\n",
    "caption_training_data = caption_trainval_data[NR_VAL_SAMPLES:(NR_VAL_SAMPLES+NR_TRAIN_SAMPLES)]\n",
    "\n",
    "THOUGHTVECS_PRECOMPUTED = False\n",
    "thoughtvec_trainval_data_array = None\n",
    "thoughtvec_validation_data_array = None\n",
    "thoughtvec_training_data_array = None\n",
    "print \"THOUGHTVECS_PRECOMPUTED: \" + str(THOUGHTVECS_PRECOMPUTED)\n",
    "\n",
    "print_time_str()\n",
    "\n",
    "if THOUGHTVECS_PRECOMPUTED:\n",
    "    thoughtvec_precomputed_path = MODELS_DIR\n",
    "    thoughtvec_precomputed_filename = \"thoughtvecs_2016-12-23.42.17.17.npy\"\n",
    "    thoughtvec_precomputed_fp = os.path.join(thoughtvec_precomputed_path, thoughtvec_precomputed_filename)\n",
    "    thoughtvec_trainval_data_array = np.load(thoughtvec_precomputed_fp)\n",
    "else:\n",
    "    thoughtvec_trainval_data_array = skipthoughts.encode(model, \\\n",
    "                                                         caption_trainval_data, \\\n",
    "                                                         verbose=False)\n",
    "\n",
    "thoughtvec_validation_data_array = thoughtvec_trainval_data_array[0:NR_VAL_SAMPLES,]\n",
    "thoughtvec_training_data_array = thoughtvec_trainval_data_array[NR_VAL_SAMPLES:(NR_VAL_SAMPLES+NR_TRAIN_SAMPLES),]\n",
    "    \n",
    "print_time_str()\n",
    "\n",
    "training_data = []\n",
    "validation_data = []"
   ]
  },
  {
   "cell_type": "code",
   "execution_count": 29,
   "metadata": {
    "collapsed": false
   },
   "outputs": [],
   "source": [
    "thoughtvec_zoo_fp = os.path.join(MODELS_DIR, \"thoughtvecs_\" + get_time_str() + \".npy\")\n",
    "\n",
    "if not THOUGHTVECS_PRECOMPUTED:\n",
    "    np.save(thoughtvec_zoo_fp, thoughtvec_trainval_data_array)"
   ]
  },
  {
   "cell_type": "code",
   "execution_count": 30,
   "metadata": {
    "collapsed": false
   },
   "outputs": [
    {
     "data": {
      "text/html": [
       "<div>\n",
       "<table border=\"1\" class=\"dataframe\">\n",
       "  <thead>\n",
       "    <tr style=\"text-align: right;\">\n",
       "      <th></th>\n",
       "      <th>file_name</th>\n",
       "      <th>image_id</th>\n",
       "      <th>caption</th>\n",
       "      <th>caption_id</th>\n",
       "    </tr>\n",
       "  </thead>\n",
       "  <tbody>\n",
       "    <tr>\n",
       "      <th>0</th>\n",
       "      <td>COCO_train2014_000000057870.jpg</td>\n",
       "      <td>57870</td>\n",
       "      <td>A restaurant has modern wooden tables and chairs.</td>\n",
       "      <td>787980</td>\n",
       "    </tr>\n",
       "    <tr>\n",
       "      <th>1</th>\n",
       "      <td>COCO_train2014_000000057870.jpg</td>\n",
       "      <td>57870</td>\n",
       "      <td>A long restaurant table with rattan rounded ba...</td>\n",
       "      <td>789366</td>\n",
       "    </tr>\n",
       "    <tr>\n",
       "      <th>2</th>\n",
       "      <td>COCO_train2014_000000057870.jpg</td>\n",
       "      <td>57870</td>\n",
       "      <td>a long table with a plant on top of it surroun...</td>\n",
       "      <td>789888</td>\n",
       "    </tr>\n",
       "    <tr>\n",
       "      <th>3</th>\n",
       "      <td>COCO_train2014_000000057870.jpg</td>\n",
       "      <td>57870</td>\n",
       "      <td>A long table with a flower arrangement in the ...</td>\n",
       "      <td>791316</td>\n",
       "    </tr>\n",
       "    <tr>\n",
       "      <th>4</th>\n",
       "      <td>COCO_train2014_000000057870.jpg</td>\n",
       "      <td>57870</td>\n",
       "      <td>A table is adorned with wooden chairs with blu...</td>\n",
       "      <td>794853</td>\n",
       "    </tr>\n",
       "    <tr>\n",
       "      <th>5</th>\n",
       "      <td>COCO_train2014_000000384029.jpg</td>\n",
       "      <td>384029</td>\n",
       "      <td>A man preparing desserts in a kitchen covered ...</td>\n",
       "      <td>118034</td>\n",
       "    </tr>\n",
       "    <tr>\n",
       "      <th>6</th>\n",
       "      <td>COCO_train2014_000000384029.jpg</td>\n",
       "      <td>384029</td>\n",
       "      <td>A chef is preparing and decorating many small ...</td>\n",
       "      <td>157682</td>\n",
       "    </tr>\n",
       "    <tr>\n",
       "      <th>7</th>\n",
       "      <td>COCO_train2014_000000384029.jpg</td>\n",
       "      <td>384029</td>\n",
       "      <td>A baker prepares various types of baked goods.</td>\n",
       "      <td>159179</td>\n",
       "    </tr>\n",
       "    <tr>\n",
       "      <th>8</th>\n",
       "      <td>COCO_train2014_000000384029.jpg</td>\n",
       "      <td>384029</td>\n",
       "      <td>a close up of a person grabbing a pastry in a ...</td>\n",
       "      <td>175826</td>\n",
       "    </tr>\n",
       "    <tr>\n",
       "      <th>9</th>\n",
       "      <td>COCO_train2014_000000384029.jpg</td>\n",
       "      <td>384029</td>\n",
       "      <td>Close up of a hand touching various pastries.</td>\n",
       "      <td>185540</td>\n",
       "    </tr>\n",
       "  </tbody>\n",
       "</table>\n",
       "</div>"
      ],
      "text/plain": [
       "                         file_name  image_id  \\\n",
       "0  COCO_train2014_000000057870.jpg     57870   \n",
       "1  COCO_train2014_000000057870.jpg     57870   \n",
       "2  COCO_train2014_000000057870.jpg     57870   \n",
       "3  COCO_train2014_000000057870.jpg     57870   \n",
       "4  COCO_train2014_000000057870.jpg     57870   \n",
       "5  COCO_train2014_000000384029.jpg    384029   \n",
       "6  COCO_train2014_000000384029.jpg    384029   \n",
       "7  COCO_train2014_000000384029.jpg    384029   \n",
       "8  COCO_train2014_000000384029.jpg    384029   \n",
       "9  COCO_train2014_000000384029.jpg    384029   \n",
       "\n",
       "                                             caption  caption_id  \n",
       "0  A restaurant has modern wooden tables and chairs.      787980  \n",
       "1  A long restaurant table with rattan rounded ba...      789366  \n",
       "2  a long table with a plant on top of it surroun...      789888  \n",
       "3  A long table with a flower arrangement in the ...      791316  \n",
       "4  A table is adorned with wooden chairs with blu...      794853  \n",
       "5  A man preparing desserts in a kitchen covered ...      118034  \n",
       "6  A chef is preparing and decorating many small ...      157682  \n",
       "7     A baker prepares various types of baked goods.      159179  \n",
       "8  a close up of a person grabbing a pastry in a ...      175826  \n",
       "9      Close up of a hand touching various pastries.      185540  "
      ]
     },
     "execution_count": 30,
     "metadata": {},
     "output_type": "execute_result"
    }
   ],
   "source": [
    "modified_train_joined_df.iloc[0:10] # we should probably save this somewhere..."
   ]
  },
  {
   "cell_type": "code",
   "execution_count": 33,
   "metadata": {
    "collapsed": false
   },
   "outputs": [
    {
     "name": "stdout",
     "output_type": "stream",
     "text": [
      "VISIONVECS_PRECOMPUTED: True\n",
      "2016-12-30.17.38.10\n",
      "2016-12-30.17.39.20\n"
     ]
    }
   ],
   "source": [
    "VISIONVECS_PRECOMPUTED = False\n",
    "print \"VISIONVECS_PRECOMPUTED: \" + str(VISIONVECS_PRECOMPUTED)\n",
    "\n",
    "from IPython.display import clear_output\n",
    "\n",
    "visionvec_trainval_data = []\n",
    "\n",
    "visionvec_trainval_data_array = None\n",
    "visionvec_validation_data_array = None\n",
    "visionvec_training_data_array = None\n",
    "\n",
    "print_time_str()\n",
    "\n",
    "if VISIONVECS_PRECOMPUTED:\n",
    "    visionvec_precomputed_path = MODELS_DIR\n",
    "    visionvec_precomputed_filename = \"visionvecs_2016-12-25.12.02.02.npy\"\n",
    "    visionvec_precomputed_fp = os.path.join(visionvec_precomputed_path, visionvec_precomputed_filename)\n",
    "    visionvec_trainval_data_array = np.load(visionvec_precomputed_fp)\n",
    "else:\n",
    "    \n",
    "    current_image_id = -1\n",
    "    current_visionVec = None\n",
    "    \n",
    "    for row in modified_train_joined_df.iloc[0:(NR_VAL_SAMPLES+NR_TRAIN_SAMPLES)].itertuples():\n",
    "        index = row[0]\n",
    "        print \"processing index \" + str(index)\n",
    "        clear_output(wait=True)\n",
    "    \n",
    "        image_id = row[colNameToIdxMap[\"image_id\"]]\n",
    "        file_name = row[colNameToIdxMap[\"file_name\"]]\n",
    "    \n",
    "        if image_id != current_image_id: \n",
    "            visionVec = get_visionvec(train_dir, file_name)\n",
    "            current_visionVec = visionVec\n",
    "            current_image_id = image_id\n",
    "        \n",
    "        visionvec_trainval_data.append(current_visionVec)\n",
    "        \n",
    "    visionvec_trainval_data_array = np.array(visionvec_trainval_data)\n",
    "\n",
    "visionvec_validation_data_array = visionvec_trainval_data_array[0:NR_VAL_SAMPLES,]\n",
    "visionvec_training_data_array = visionvec_trainval_data_array[NR_VAL_SAMPLES:(NR_VAL_SAMPLES+NR_TRAIN_SAMPLES),]\n",
    "    \n",
    "print_time_str()"
   ]
  },
  {
   "cell_type": "code",
   "execution_count": 34,
   "metadata": {
    "collapsed": false
   },
   "outputs": [
    {
     "name": "stdout",
     "output_type": "stream",
     "text": [
      "\n",
      "\n",
      "Shapes: \n",
      "\n",
      "len(caption_trainval_data):\t\t412930\n",
      "visionvec_trainval_data_array.shape:\t\t(412930, 4096)\n",
      "thoughtvec_trainval_data_array.shape:\t\t(412930, 4800)\n",
      "\n",
      "\n",
      "len(caption_training_data):\t\t402930\n",
      "visionvec_training_data_array.shape:\t\t(402930, 4096)\n",
      "thoughtvec_training_data_array.shape:\t\t(402930, 4800)\n",
      "\n",
      "\n",
      "len(caption_validation_data):\t\t 10000\n",
      "visionvec_validation_data_array.shape:\t\t (10000, 4096)\n",
      "thoughtvec_validation_data_array.shape:\t\t (10000, 4800)\n"
     ]
    }
   ],
   "source": [
    "print \"\\n\\nShapes: \\n\"\n",
    "print \"len(caption_trainval_data):\\t\\t\" + str(len(caption_trainval_data))\n",
    "print \"visionvec_trainval_data_array.shape:\\t\\t\" + str(visionvec_trainval_data_array.shape)\n",
    "print \"thoughtvec_trainval_data_array.shape:\\t\\t\" + str(thoughtvec_trainval_data_array.shape)\n",
    "print \"\\n\"\n",
    "print \"len(caption_training_data):\\t\\t\" + str(len(caption_training_data))\n",
    "print \"visionvec_training_data_array.shape:\\t\\t\" + str(visionvec_training_data_array.shape)\n",
    "print \"thoughtvec_training_data_array.shape:\\t\\t\" + str(thoughtvec_training_data_array.shape)\n",
    "print \"\\n\"\n",
    "print \"len(caption_validation_data):\\t\\t \" + str(len(caption_validation_data))\n",
    "print \"visionvec_validation_data_array.shape:\\t\\t \" + str(visionvec_validation_data_array.shape)\n",
    "print \"thoughtvec_validation_data_array.shape:\\t\\t \" + str(thoughtvec_validation_data_array.shape)"
   ]
  },
  {
   "cell_type": "code",
   "execution_count": 35,
   "metadata": {
    "collapsed": false
   },
   "outputs": [],
   "source": [
    "visionvec_zoo_fp = os.path.join(MODELS_DIR, \"visionvecs_\" + get_time_str() + \".npy\")\n",
    "\n",
    "if not VISIONVECS_PRECOMPUTED:\n",
    "    np.save(visionvec_zoo_fp, visionvec_trainval_data_array)"
   ]
  },
  {
   "cell_type": "code",
   "execution_count": 37,
   "metadata": {
    "collapsed": true
   },
   "outputs": [],
   "source": [
    "training_data = [caption_training_data, \\\n",
    "                 visionvec_training_data_array, \\\n",
    "                 thoughtvec_training_data_array]\n",
    "\n",
    "validation_data = [caption_validation_data, \\\n",
    "                   visionvec_validation_data_array, \\\n",
    "                   thoughtvec_validation_data_array]\n",
    "\n",
    "train = training_data\n",
    "dev = validation_data"
   ]
  },
  {
   "cell_type": "code",
   "execution_count": 38,
   "metadata": {
    "collapsed": true
   },
   "outputs": [],
   "source": [
    "model_filename = \"\"\n",
    "\n",
    "RELOAD_MODEL = False\n",
    "RELOAD_MODEL_FILENAME = \"cocorank1000_combine_2016-12-28.17.36.43_reloaded.npz\"\n",
    "\n",
    "if RELOAD_MODEL:\n",
    "    model_filename = RELOAD_MODEL_FILENAME\n",
    "else:\n",
    "    model_filename = \"cocorank1000_combine_\" + get_time_str() + \".npz\"\n",
    "    \n",
    "model_zoo_fp = os.path.join(MODELS_DIR, model_filename)"
   ]
  },
  {
   "cell_type": "code",
   "execution_count": null,
   "metadata": {
    "collapsed": false
   },
   "outputs": [
    {
     "name": "stdout",
     "output_type": "stream",
     "text": [
      "{'dim': 1000, 'optimizer': 'adam', 'validFreq': 500, 'reload_': True, 'dim_im': 4096, 'batch_size': 100, 'saveFreq': 500, 'saveto': '/Users/lucaslingle/git/skip-thoughts/models/lucas-designed-models/cocorank1000_combine_2016-12-28.17.36.43_reloaded.npz', 'ncon': 50, 'lrate': 0.01, 'max_epochs': 15, 'dispFreq': 10, 'margin': 0.2, 'dim_s': 4800, 'valid_batch_size': 100}\n",
      "Reloading options\n",
      "Building model\n",
      "Reloading model\n",
      "Building encoder\n",
      "Building functions\n",
      "Computing gradients\n",
      "Optimization\n",
      "Epoch  0 Update  10 Cost  276.618530273 UD  1.16832304001\n",
      "Epoch  0 Update  20 Cost  334.217132568 UD  1.17495298386\n",
      "Epoch  0 Update  30 Cost  337.147674561 UD  1.10903191566\n",
      "Epoch  0 Update  40 Cost  340.460205078 UD  1.06964111328\n",
      "Epoch  0 Update  50 Cost  366.901031494 UD  1.13762593269\n",
      "Epoch  0 Update  60 Cost  325.234863281 UD  1.12491512299\n",
      "Epoch  0 Update  70 Cost  331.643707275 UD  1.53722190857\n",
      "Epoch  0 Update  80 Cost  335.561523438 UD  1.1471760273\n",
      "Epoch  0 Update  90 Cost  186.939300537 UD  1.20937085152\n",
      "Epoch  0 Update  100 Cost  239.792816162 UD  1.23010993004\n",
      "Epoch  0 Update  110 Cost  158.45690918 UD  1.15563011169\n",
      "Epoch  0 Update  120 Cost  180.685668945 UD  1.22666096687\n",
      "Epoch  0 Update  130 Cost  159.094451904 UD  1.15620493889\n",
      "Epoch  0 Update  140 Cost  166.490570068 UD  1.13999080658\n",
      "Epoch  0 Update  150 Cost  170.787567139 UD  1.19993114471\n",
      "Epoch  0 Update  160 Cost  249.960983276 UD  1.15603995323\n",
      "Epoch  0 Update  170 Cost  201.701919556 UD  1.11740708351\n",
      "Epoch  0 Update  180 Cost  143.161560059 UD  1.07924604416\n",
      "Epoch  0 Update  190 Cost  192.49659729 UD  1.27731919289\n",
      "Epoch  0 Update  200 Cost  152.488555908 UD  1.06230807304\n",
      "Epoch  0 Update  210 Cost  107.4453125 UD  1.12848496437\n",
      "Epoch  0 Update  220 Cost  120.603378296 UD  1.0585308075\n",
      "Epoch  0 Update  230 Cost  104.777610779 UD  1.10887885094\n",
      "Epoch  0 Update  240 Cost  100.883865356 UD  1.06946802139\n",
      "Epoch  0 Update  250 Cost  221.343658447 UD  1.07499480247\n",
      "Epoch  0 Update  260 Cost  138.084457397 UD  1.10978507996\n",
      "Epoch  0 Update  270 Cost  88.1266479492 UD  1.14062213898\n",
      "Epoch  0 Update  280 Cost  129.527786255 UD  1.16185212135\n",
      "Epoch  0 Update  290 Cost  133.772354126 UD  2.70271801949\n",
      "Epoch  0 Update  300 Cost  97.0662536621 UD  1.11649799347\n",
      "Epoch  0 Update  310 Cost  120.478210449 UD  1.06173610687\n",
      "Epoch  0 Update  320 Cost  95.5773010254 UD  1.41868591309\n",
      "Epoch  0 Update  330 Cost  95.0718841553 UD  1.12807583809\n",
      "Epoch  0 Update  340 Cost  95.2199554443 UD  1.10671710968\n",
      "Epoch  0 Update  350 Cost  137.697967529 UD  3.06223011017\n",
      "Epoch  0 Update  360 Cost  123.338371277 UD  1.27852797508\n",
      "Epoch  0 Update  370 Cost  102.925033569 UD  3.10108709335\n",
      "Epoch  0 Update  380 Cost  126.468444824 UD  1.20160412788\n",
      "Epoch  0 Update  390 Cost  120.101165771 UD  1.15596604347\n",
      "Epoch  0 Update  400 Cost  102.635787964 UD  1.17164301872\n",
      "Epoch  0 Update  410 Cost  91.963218689 UD  2.62816500664\n",
      "Epoch  0 Update  420 Cost  99.6356506348 UD  1.18637108803\n",
      "Epoch  0 Update  430 Cost  93.2610015869 UD  1.45556902885\n",
      "Epoch  0 Update  440 Cost  108.345916748 UD  1.07884812355\n",
      "Epoch  0 Update  450 Cost  75.3235015869 UD  1.15194892883\n",
      "Epoch  0 Update  460 Cost  87.4948196411 UD  1.14595198631\n",
      "Epoch  0 Update  470 Cost  84.6266784668 UD  1.13068914413\n",
      "Epoch  0 Update  480 Cost  95.2479400635 UD  1.13082909584\n",
      "Epoch  0 Update  490 Cost  90.2851409912 UD  1.23683691025\n",
      "Epoch  0 Update  500 Cost  86.0021972656 UD  2.95289993286\n",
      "Computing ranks...\n",
      "Image to text: 6.3, 25.1, 38.4, 17.0\n",
      "Text to image: 6.5, 22.0, 34.4, 21.0\n",
      "Saving... Done\n",
      "Epoch  0 Update  510 Cost  142.977325439 UD  1.12180089951\n",
      "Epoch  0 Update  520 Cost  71.6993560791 UD  1.1057600975\n",
      "Epoch  0 Update  530 Cost  101.040817261 UD  1.11844301224\n",
      "Epoch  0 Update  540 Cost  92.8534088135 UD  1.30997204781\n",
      "Epoch  0 Update  550 Cost  62.0345153809 UD  1.15682291985\n",
      "Epoch  0 Update  560 Cost  93.7342529297 UD  1.16749191284\n",
      "Epoch  0 Update  570 Cost  127.731185913 UD  1.12083315849\n",
      "Epoch  0 Update  580 Cost  87.9191513062 UD  1.14415001869\n",
      "Epoch  0 Update  590 Cost  101.663238525 UD  1.27597904205\n",
      "Epoch  0 Update  600 Cost  101.677360535 UD  1.16003012657\n",
      "Epoch  0 Update  610 Cost  57.652431488 UD  1.1199491024\n",
      "Epoch  0 Update  620 Cost  79.6863861084 UD  2.21420907974\n",
      "Epoch  0 Update  630 Cost  63.1388397217 UD  1.11259078979\n",
      "Epoch  0 Update  640 Cost  77.2498016357 UD  1.17994689941\n",
      "Epoch  0 Update  650 Cost  106.892868042 UD  1.13685488701\n",
      "Epoch  0 Update  660 Cost  93.3435974121 UD  1.0791990757\n",
      "Epoch  0 Update  670 Cost  93.4170379639 UD  1.12102913857\n",
      "Epoch  0 Update  680 Cost  90.6424255371 UD  2.96512007713\n",
      "Epoch  0 Update  690 Cost  78.1131515503 UD  1.11009907722\n",
      "Epoch  0 Update  700 Cost  85.741317749 UD  1.09269404411\n",
      "Epoch  0 Update  710 Cost  103.045585632 UD  1.13187098503\n",
      "Epoch  0 Update  720 Cost  87.0774307251 UD  1.07786512375\n",
      "Epoch  0 Update  730 Cost  117.907958984 UD  1.13305211067\n",
      "Epoch  0 Update  740 Cost  90.3014221191 UD  1.14440202713\n",
      "Epoch  0 Update  750 Cost  65.5486221313 UD  1.13243603706\n",
      "Epoch  0 Update  760 Cost  68.8526611328 UD  1.09592199326\n",
      "Epoch  0 Update  770 Cost  83.1959991455 UD  1.18502116203\n",
      "Epoch  0 Update  780 Cost  64.5788040161 UD  3.16703009605\n",
      "Epoch  0 Update  790 Cost  73.3613739014 UD  1.09065413475\n",
      "Epoch  0 Update  800 Cost  65.6953811646 UD  1.16618704796\n",
      "Epoch  0 Update  810 Cost  108.087631226 UD  2.68849205971\n",
      "Epoch  0 Update  820 Cost  99.8025665283 UD  1.47345113754\n",
      "Epoch  0 Update  830 Cost  73.5953674316 UD  1.09704303741\n",
      "Epoch  0 Update  840 Cost  78.4014816284 UD  1.14044213295\n",
      "Epoch  0 Update  850 Cost  59.9026184082 UD  1.13437891006\n",
      "Epoch  0 Update  860 Cost  70.7629013062 UD  1.15992283821\n",
      "Epoch  0 Update  870 Cost  68.6961975098 UD  1.83918595314\n",
      "Epoch  0 Update  880 Cost  88.9013366699 UD  1.15117502213\n",
      "Epoch "
     ]
    }
   ],
   "source": [
    "import eval_rank\n",
    "\n",
    "eval_rank.trainer(train, \\\n",
    "                  dev, \\\n",
    "                  saveto=model_zoo_fp, \\\n",
    "                  reload_ = RELOAD_MODEL)"
   ]
  },
  {
   "cell_type": "code",
   "execution_count": 71,
   "metadata": {
    "collapsed": false
   },
   "outputs": [
    {
     "data": {
      "text/plain": [
       "[u'A restaurant has modern wooden tables and chairs.',\n",
       " u'A long restaurant table with rattan rounded back chairs.',\n",
       " u'a long table with a plant on top of it surrounded with wooden chairs ',\n",
       " u'A long table with a flower arrangement in the middle for meetings',\n",
       " u'A table is adorned with wooden chairs with blue accents.',\n",
       " u'A man preparing desserts in a kitchen covered in frosting.',\n",
       " u'A chef is preparing and decorating many small pastries.',\n",
       " u'A baker prepares various types of baked goods.',\n",
       " u'a close up of a person grabbing a pastry in a container',\n",
       " u'Close up of a hand touching various pastries.']"
      ]
     },
     "execution_count": 71,
     "metadata": {},
     "output_type": "execute_result"
    }
   ],
   "source": [
    "train_joined_df[\"caption\"].iloc[0:10].tolist()"
   ]
  },
  {
   "cell_type": "code",
   "execution_count": 72,
   "metadata": {
    "collapsed": true
   },
   "outputs": [],
   "source": [
    "model_zoo_fp = os.path.join(MODELS_DIR, 'cocorank1000_combine.npz')"
   ]
  },
  {
   "cell_type": "code",
   "execution_count": 85,
   "metadata": {
    "collapsed": false
   },
   "outputs": [
    {
     "name": "stdout",
     "output_type": "stream",
     "text": [
      "Loading model...\n",
      "Building encoder\n",
      "Compute embeddings...\n",
      "Image to text: 21.5, 52.5, 69.5, 5.0\n",
      "Text to image: 12.2, 30.3, 40.4, 21.0\n"
     ]
    }
   ],
   "source": [
    "results = eval_rank.evaluate(\n",
    "    dev,\n",
    "    model_zoo_fp, \\\n",
    "    evaluate=True, \\\n",
    "    out=True)"
   ]
  },
  {
   "cell_type": "code",
   "execution_count": 91,
   "metadata": {
    "collapsed": false
   },
   "outputs": [
    {
     "data": {
      "text/plain": [
       "(1000,)"
      ]
     },
     "execution_count": 91,
     "metadata": {},
     "output_type": "execute_result"
    }
   ],
   "source": [
    "results[0][0].shape"
   ]
  },
  {
   "cell_type": "code",
   "execution_count": 92,
   "metadata": {
    "collapsed": false
   },
   "outputs": [
    {
     "data": {
      "text/plain": [
       "(1000,)"
      ]
     },
     "execution_count": 92,
     "metadata": {},
     "output_type": "execute_result"
    }
   ],
   "source": [
    "results[1][0].shape"
   ]
  },
  {
   "cell_type": "code",
   "execution_count": 96,
   "metadata": {
    "collapsed": false
   },
   "outputs": [
    {
     "data": {
      "text/plain": [
       "1.3888732"
      ]
     },
     "execution_count": 96,
     "metadata": {},
     "output_type": "execute_result"
    }
   ],
   "source": [
    "diff = (results[0][0] - results[1][0])\n",
    "np.sqrt(diff.dot(diff))"
   ]
  },
  {
   "cell_type": "code",
   "execution_count": 98,
   "metadata": {
    "collapsed": false
   },
   "outputs": [
    {
     "data": {
      "text/plain": [
       "u'A restaurant has modern wooden tables and chairs.'"
      ]
     },
     "execution_count": 98,
     "metadata": {},
     "output_type": "execute_result"
    }
   ],
   "source": [
    "dev[0][0]"
   ]
  },
  {
   "cell_type": "code",
   "execution_count": 236,
   "metadata": {
    "collapsed": true
   },
   "outputs": [],
   "source": [
    "from scipy.linalg import norm\n",
    "\n",
    "def get_t2i(images, captions, npts=None):\n",
    "    \"\"\"\n",
    "    Images: (5N, K) matrix of images\n",
    "    Captions: (5N, K) matrix of captions\n",
    "    \"\"\"\n",
    "    if npts == None:\n",
    "        npts = images.shape[0] / 5\n",
    "    ims = np.array([images[i] for i in range(0, len(images), 5)])\n",
    "\n",
    "    # Project images\n",
    "    for i in range(len(ims)):\n",
    "        ims[i] /= norm(ims[i])\n",
    "\n",
    "    # Project captions\n",
    "    for i in range(len(captions)):\n",
    "        captions[i] /= norm(captions[i])\n",
    "\n",
    "    ranks = np.zeros(5 * npts)\n",
    "    for index in range(npts):\n",
    "\n",
    "        # Get query captions\n",
    "        queries = captions[5*index : 5*index + 5]\n",
    "\n",
    "        # Compute scores\n",
    "        d = np.dot(queries, ims.T)\n",
    "        inds = np.zeros(d.shape)\n",
    "        for i in range(len(inds)):\n",
    "            inds[i] = np.argsort(d[i])[::-1]\n",
    "            ranks[5 * index + i] = np.where(inds[i] == index)[0][0]\n",
    "\n",
    "    return ranks"
   ]
  },
  {
   "cell_type": "code",
   "execution_count": 243,
   "metadata": {
    "collapsed": false
   },
   "outputs": [],
   "source": [
    "# rankings is a NR_POINTS-length array that is computed as follows:\n",
    "# rankings[i] uses the i-th correct image-and-caption pair\n",
    "#   and tells us that if we take the image caption and embed it, \n",
    "#   the correct image comes up in the seach results as the rankings[i] -th highest result.\n",
    "\n",
    "rankings = get_t2i(results[0], results[1])"
   ]
  },
  {
   "cell_type": "code",
   "execution_count": 244,
   "metadata": {
    "collapsed": false
   },
   "outputs": [
    {
     "data": {
      "text/plain": [
       "array([  9.,   2.,   0.,   1.,   0.,  25.,   9.,  34.,   5.,  20.,   3.,\n",
       "         1.,   1.,   8.,  19.,  11.,   7.,  18.,   0.,  10.])"
      ]
     },
     "execution_count": 244,
     "metadata": {},
     "output_type": "execute_result"
    }
   ],
   "source": [
    "rankings[0:20]"
   ]
  },
  {
   "cell_type": "code",
   "execution_count": 238,
   "metadata": {
    "collapsed": false
   },
   "outputs": [
    {
     "name": "stdout",
     "output_type": "stream",
     "text": [
      "9.0\n",
      "A restaurant has modern wooden tables and chairs.\n"
     ]
    }
   ],
   "source": [
    "print rankings[0]\n",
    "print caption_training_data[0]"
   ]
  },
  {
   "cell_type": "code",
   "execution_count": 150,
   "metadata": {
    "collapsed": false
   },
   "outputs": [
    {
     "data": {
      "text/plain": [
       "0    COCO_train2014_000000057870.jpg\n",
       "Name: file_name, dtype: object"
      ]
     },
     "execution_count": 150,
     "metadata": {},
     "output_type": "execute_result"
    }
   ],
   "source": [
    "train_joined_df[train_joined_df[\"caption\"] == caption_training_data[0]][\"file_name\"]"
   ]
  },
  {
   "cell_type": "code",
   "execution_count": 152,
   "metadata": {
    "collapsed": false
   },
   "outputs": [
    {
     "data": {
      "text/plain": [
       "array([  1.30584037e+00,  -1.49011612e-08,   6.70254588e-01, ...,\n",
       "         2.98023224e-08,  -8.94069672e-08,   3.55382562e+00], dtype=float32)"
      ]
     },
     "execution_count": 152,
     "metadata": {},
     "output_type": "execute_result"
    }
   ],
   "source": [
    "get_visionvec(train_dir, \"COCO_train2014_000000057870.jpg\")"
   ]
  },
  {
   "cell_type": "code",
   "execution_count": 154,
   "metadata": {
    "collapsed": false
   },
   "outputs": [
    {
     "data": {
      "text/html": [
       "<div>\n",
       "<table border=\"1\" class=\"dataframe\">\n",
       "  <thead>\n",
       "    <tr style=\"text-align: right;\">\n",
       "      <th></th>\n",
       "      <th>file_name</th>\n",
       "      <th>image_id</th>\n",
       "      <th>caption</th>\n",
       "      <th>caption_id</th>\n",
       "    </tr>\n",
       "  </thead>\n",
       "  <tbody>\n",
       "    <tr>\n",
       "      <th>0</th>\n",
       "      <td>COCO_train2014_000000057870.jpg</td>\n",
       "      <td>57870</td>\n",
       "      <td>A restaurant has modern wooden tables and chairs.</td>\n",
       "      <td>787980</td>\n",
       "    </tr>\n",
       "    <tr>\n",
       "      <th>1</th>\n",
       "      <td>COCO_train2014_000000057870.jpg</td>\n",
       "      <td>57870</td>\n",
       "      <td>A long restaurant table with rattan rounded ba...</td>\n",
       "      <td>789366</td>\n",
       "    </tr>\n",
       "    <tr>\n",
       "      <th>2</th>\n",
       "      <td>COCO_train2014_000000057870.jpg</td>\n",
       "      <td>57870</td>\n",
       "      <td>a long table with a plant on top of it surroun...</td>\n",
       "      <td>789888</td>\n",
       "    </tr>\n",
       "    <tr>\n",
       "      <th>3</th>\n",
       "      <td>COCO_train2014_000000057870.jpg</td>\n",
       "      <td>57870</td>\n",
       "      <td>A long table with a flower arrangement in the ...</td>\n",
       "      <td>791316</td>\n",
       "    </tr>\n",
       "    <tr>\n",
       "      <th>4</th>\n",
       "      <td>COCO_train2014_000000057870.jpg</td>\n",
       "      <td>57870</td>\n",
       "      <td>A table is adorned with wooden chairs with blu...</td>\n",
       "      <td>794853</td>\n",
       "    </tr>\n",
       "    <tr>\n",
       "      <th>5</th>\n",
       "      <td>COCO_train2014_000000384029.jpg</td>\n",
       "      <td>384029</td>\n",
       "      <td>A man preparing desserts in a kitchen covered ...</td>\n",
       "      <td>118034</td>\n",
       "    </tr>\n",
       "    <tr>\n",
       "      <th>6</th>\n",
       "      <td>COCO_train2014_000000384029.jpg</td>\n",
       "      <td>384029</td>\n",
       "      <td>A chef is preparing and decorating many small ...</td>\n",
       "      <td>157682</td>\n",
       "    </tr>\n",
       "    <tr>\n",
       "      <th>7</th>\n",
       "      <td>COCO_train2014_000000384029.jpg</td>\n",
       "      <td>384029</td>\n",
       "      <td>A baker prepares various types of baked goods.</td>\n",
       "      <td>159179</td>\n",
       "    </tr>\n",
       "    <tr>\n",
       "      <th>8</th>\n",
       "      <td>COCO_train2014_000000384029.jpg</td>\n",
       "      <td>384029</td>\n",
       "      <td>a close up of a person grabbing a pastry in a ...</td>\n",
       "      <td>175826</td>\n",
       "    </tr>\n",
       "    <tr>\n",
       "      <th>9</th>\n",
       "      <td>COCO_train2014_000000384029.jpg</td>\n",
       "      <td>384029</td>\n",
       "      <td>Close up of a hand touching various pastries.</td>\n",
       "      <td>185540</td>\n",
       "    </tr>\n",
       "  </tbody>\n",
       "</table>\n",
       "</div>"
      ],
      "text/plain": [
       "                         file_name  image_id  \\\n",
       "0  COCO_train2014_000000057870.jpg     57870   \n",
       "1  COCO_train2014_000000057870.jpg     57870   \n",
       "2  COCO_train2014_000000057870.jpg     57870   \n",
       "3  COCO_train2014_000000057870.jpg     57870   \n",
       "4  COCO_train2014_000000057870.jpg     57870   \n",
       "5  COCO_train2014_000000384029.jpg    384029   \n",
       "6  COCO_train2014_000000384029.jpg    384029   \n",
       "7  COCO_train2014_000000384029.jpg    384029   \n",
       "8  COCO_train2014_000000384029.jpg    384029   \n",
       "9  COCO_train2014_000000384029.jpg    384029   \n",
       "\n",
       "                                             caption  caption_id  \n",
       "0  A restaurant has modern wooden tables and chairs.      787980  \n",
       "1  A long restaurant table with rattan rounded ba...      789366  \n",
       "2  a long table with a plant on top of it surroun...      789888  \n",
       "3  A long table with a flower arrangement in the ...      791316  \n",
       "4  A table is adorned with wooden chairs with blu...      794853  \n",
       "5  A man preparing desserts in a kitchen covered ...      118034  \n",
       "6  A chef is preparing and decorating many small ...      157682  \n",
       "7     A baker prepares various types of baked goods.      159179  \n",
       "8  a close up of a person grabbing a pastry in a ...      175826  \n",
       "9      Close up of a hand touching various pastries.      185540  "
      ]
     },
     "execution_count": 154,
     "metadata": {},
     "output_type": "execute_result"
    }
   ],
   "source": [
    "train_joined_df.iloc[0:10]"
   ]
  },
  {
   "cell_type": "code",
   "execution_count": 195,
   "metadata": {
    "collapsed": false
   },
   "outputs": [
    {
     "data": {
      "text/plain": [
       "file_name                       COCO_train2014_000000057870.jpg\n",
       "image_id                                                  57870\n",
       "caption       A long restaurant table with rattan rounded ba...\n",
       "caption_id                                               789366\n",
       "Name: 1, dtype: object"
      ]
     },
     "execution_count": 195,
     "metadata": {},
     "output_type": "execute_result"
    }
   ],
   "source": [
    "train_joined_df.iloc[1]"
   ]
  },
  {
   "cell_type": "code",
   "execution_count": 133,
   "metadata": {
    "collapsed": false
   },
   "outputs": [
    {
     "data": {
      "text/plain": [
       "5"
      ]
     },
     "execution_count": 133,
     "metadata": {},
     "output_type": "execute_result"
    }
   ],
   "source": [
    "len(np.zeros(rankings[0].shape))"
   ]
  },
  {
   "cell_type": "code",
   "execution_count": 130,
   "metadata": {
    "collapsed": false
   },
   "outputs": [],
   "source": [
    "cosineSim = np.dot(results[0][0], results[0][1999]) / (np.dot(results[0][0], results[0][0]) * np.dot(results[0][1999], results[0][1999]))"
   ]
  },
  {
   "cell_type": "code",
   "execution_count": 131,
   "metadata": {
    "collapsed": false
   },
   "outputs": [
    {
     "data": {
      "text/plain": [
       "0.2817193"
      ]
     },
     "execution_count": 131,
     "metadata": {},
     "output_type": "execute_result"
    }
   ],
   "source": [
    "cosineSim"
   ]
  },
  {
   "cell_type": "code",
   "execution_count": 155,
   "metadata": {
    "collapsed": false
   },
   "outputs": [
    {
     "data": {
      "text/plain": [
       "array([  1.30584037e+00,  -1.49011612e-08,   6.70254588e-01, ...,\n",
       "         2.98023224e-08,  -8.94069672e-08,   3.55382562e+00], dtype=float32)"
      ]
     },
     "execution_count": 155,
     "metadata": {},
     "output_type": "execute_result"
    }
   ],
   "source": [
    "get_visionvec(train_dir, \"COCO_train2014_000000384029.jpg\")"
   ]
  },
  {
   "cell_type": "code",
   "execution_count": 160,
   "metadata": {
    "collapsed": false
   },
   "outputs": [
    {
     "name": "stdout",
     "output_type": "stream",
     "text": [
      "Loading model...\n",
      "Building encoder\n",
      "Compute embeddings...\n"
     ]
    }
   ],
   "source": [
    "import cPickle as pkl\n",
    "import theano\n",
    "import theano.tensor as tensor\n",
    "\n",
    "print \"Loading model...\"\n",
    "\n",
    "saveto = model_zoo_fp\n",
    "with open('%s.pkl'%saveto, 'rb') as f:\n",
    "    model_options = pkl.load(f)\n",
    "\n",
    "params = eval_rank.init_params(model_options)\n",
    "params = eval_rank.load_params(saveto, params)\n",
    "tparams = eval_rank.init_tparams(params)\n",
    "\n",
    "print 'Building encoder'\n",
    "inps_e, lim, ls = eval_rank.build_encoder(tparams, model_options)\n",
    "f_emb = theano.function(inps_e, [lim, ls], profile=False)\n",
    "\n",
    "#print 'Compute embeddings...'\n",
    "#lim, ls = f_emb(X[1], X[2])"
   ]
  },
  {
   "cell_type": "code",
   "execution_count": 234,
   "metadata": {
    "collapsed": true
   },
   "outputs": [],
   "source": [
    "lim, ls = f_emb(visionvec_training_data_array[0:10], thoughtvec_training_data_array[0:10])"
   ]
  },
  {
   "cell_type": "code",
   "execution_count": 235,
   "metadata": {
    "collapsed": false
   },
   "outputs": [
    {
     "data": {
      "text/plain": [
       "0.032817058"
      ]
     },
     "execution_count": 235,
     "metadata": {},
     "output_type": "execute_result"
    }
   ],
   "source": [
    "lim[0].dot(ls[0]) / lim[0].dot(lim[0]) * ls[0].dot(ls[0])"
   ]
  },
  {
   "cell_type": "code",
   "execution_count": 173,
   "metadata": {
    "collapsed": false
   },
   "outputs": [
    {
     "name": "stdout",
     "output_type": "stream",
     "text": [
      "0.0383681\n"
     ]
    }
   ],
   "source": [
    "print lim[8].dot(ls[8])"
   ]
  },
  {
   "cell_type": "code",
   "execution_count": 262,
   "metadata": {
    "collapsed": false
   },
   "outputs": [],
   "source": [
    "from scipy.linalg import norm\n",
    "\n",
    "def retrieve_images(vision_vec_data_array, captions, npts=None):\n",
    "    \"\"\"\n",
    "    Images: (5N, K) matrix of images' visionvecs\n",
    "    Captions: caption in english.\n",
    "    \"\"\"\n",
    "    print \"Loading model...\"\n",
    "    with open('%s.pkl'%saveto, 'rb') as f:\n",
    "        model_options = pkl.load(f)\n",
    "\n",
    "    params = eval_rank.init_params(model_options)\n",
    "    params = eval_rank.load_params(saveto, params)\n",
    "    tparams = eval_rank.init_tparams(params)\n",
    "\n",
    "    print 'Building encoder'\n",
    "    inps_e, lim, ls = eval_rank.build_encoder(tparams, model_options)\n",
    "    f_emb = theano.function(inps_e, [lim, ls], profile=False)\n",
    "\n",
    "    print 'Compute embeddings...'\n",
    "    if type(captions) == 'str':\n",
    "        captions = [captions]\n",
    "    thoughtvecs = skipthoughts.encode(model, captions, verbose=False)\n",
    "    image_emb_commonspace, caption_emb_commonspace = f_emb(vision_vec_data_array, thoughtvecs)\n",
    "\n",
    "    # Project images\n",
    "    for i in range(len(image_emb_commonspace)):\n",
    "        image_emb_commonspace[i] /= norm(image_emb_commonspace[i])\n",
    "\n",
    "    # Project captions\n",
    "    for i in range(len(caption_emb_commonspace)):\n",
    "        caption_emb_commonspace[i] /= norm(caption_emb_commonspace[i])\n",
    "    \n",
    "    # Compute scores\n",
    "    d = np.dot(caption_emb_commonspace, image_emb_commonspace.T)\n",
    "    inds = np.argsort(d)[::-1]\n",
    "\n",
    "    return d, inds"
   ]
  },
  {
   "cell_type": "code",
   "execution_count": 263,
   "metadata": {
    "collapsed": false
   },
   "outputs": [
    {
     "name": "stdout",
     "output_type": "stream",
     "text": [
      "Loading model...\n",
      "Building encoder\n",
      "Compute embeddings...\n"
     ]
    }
   ],
   "source": [
    "caption = train_joined_df.iloc[0:10][\"caption\"]\n",
    "d, inds = retrieve_images(visionvec_training_data_array, caption)"
   ]
  },
  {
   "cell_type": "code",
   "execution_count": 264,
   "metadata": {
    "collapsed": false
   },
   "outputs": [
    {
     "data": {
      "text/plain": [
       "array([[6753, 6749, 6750, ..., 2969, 2970, 2971],\n",
       "       [7827, 7824, 7828, ..., 8427, 8425, 8426],\n",
       "       [5968, 5969, 5970, ..., 3822, 3823, 3824],\n",
       "       ..., \n",
       "       [5827, 5823, 5824, ...,    4,    2,    0],\n",
       "       [8589, 8588, 8586, ..., 1804, 1805, 1806],\n",
       "       [8589, 8585, 8588, ...,  397,  398,  399]])"
      ]
     },
     "execution_count": 264,
     "metadata": {},
     "output_type": "execute_result"
    }
   ],
   "source": [
    "inds"
   ]
  },
  {
   "cell_type": "code",
   "execution_count": 265,
   "metadata": {
    "collapsed": false
   },
   "outputs": [
    {
     "data": {
      "text/plain": [
       "array([[ 0.03551556,  0.03551556,  0.03551556, ..., -0.04996409,\n",
       "        -0.04996408, -0.04996408],\n",
       "       [ 0.04134091,  0.04134091,  0.04134091, ..., -0.03807609,\n",
       "        -0.0380761 , -0.0380761 ],\n",
       "       [ 0.04424584,  0.04424584,  0.04424584, ..., -0.04308795,\n",
       "        -0.04308795, -0.04308795],\n",
       "       ..., \n",
       "       [-0.00492902, -0.00492902, -0.00492902, ...,  0.00576285,\n",
       "         0.00576284,  0.00576284],\n",
       "       [-0.01523871, -0.01523871, -0.01523871, ...,  0.01834627,\n",
       "         0.01834626,  0.01834626],\n",
       "       [-0.01046501, -0.01046501, -0.01046501, ...,  0.00153573,\n",
       "         0.00153573,  0.00153573]], dtype=float32)"
      ]
     },
     "execution_count": 265,
     "metadata": {},
     "output_type": "execute_result"
    }
   ],
   "source": [
    "d"
   ]
  },
  {
   "cell_type": "code",
   "execution_count": 217,
   "metadata": {
    "collapsed": false
   },
   "outputs": [
    {
     "data": {
      "text/plain": [
       "array([[8589, 8585, 8588, ...,  397,  398,  399]])"
      ]
     },
     "execution_count": 217,
     "metadata": {},
     "output_type": "execute_result"
    }
   ],
   "source": [
    "results_test"
   ]
  },
  {
   "cell_type": "code",
   "execution_count": 218,
   "metadata": {
    "collapsed": false
   },
   "outputs": [
    {
     "data": {
      "text/plain": [
       "array([ 755,  754,  752,  753,  751, 9010, 9008, 9007, 9009, 9006, 8915,\n",
       "       8916, 8917, 8918, 8919, 7189, 7190, 7191, 7193, 7192, 8959, 8958,\n",
       "       8957, 8960, 8956, 1843, 1844, 1845, 1846, 1842, 9626, 9627, 9628,\n",
       "       9629, 9630, 4288, 4287, 4291, 4289, 4290, 1486, 1489, 1488, 1487,\n",
       "       1490,   60,   61,   62,   63,   64,    3,    2,    1,    4,    0,\n",
       "       3712, 3713, 3714, 3715, 3716, 5701, 5700, 5702, 5699, 5698, 4253,\n",
       "       4254, 4255, 4256, 4252, 6567, 6564, 6565, 6563, 6566, 5048, 5049,\n",
       "       5047, 5050, 5051, 9345, 9344, 9342, 9341, 9343,  134,  133,  132,\n",
       "        131,  130, 1805, 1804, 1803, 1802, 1806,  400,  396,  397,  398,\n",
       "        399])"
      ]
     },
     "execution_count": 218,
     "metadata": {},
     "output_type": "execute_result"
    }
   ],
   "source": [
    "results_test[0][9900:]"
   ]
  },
  {
   "cell_type": "code",
   "execution_count": 260,
   "metadata": {
    "collapsed": false
   },
   "outputs": [
    {
     "data": {
      "text/plain": [
       "array([-0.00098057,  0.01174505,  0.01174505,  0.01174505,  0.01174505,\n",
       "        0.01174505, -0.01192261, -0.01192261, -0.01192261, -0.01192261,\n",
       "       -0.01192261, -0.02005802, -0.02005802, -0.02005802, -0.02005802,\n",
       "       -0.02005802,  0.00354998,  0.00354998,  0.00354998,  0.00354998,\n",
       "        0.00354998,  0.01360913,  0.01360913,  0.01360913,  0.01360913,\n",
       "        0.01360913, -0.01936385, -0.01936385, -0.01936385, -0.01936385,\n",
       "       -0.01936385, -0.01011286, -0.01011286, -0.01011286, -0.01011286,\n",
       "       -0.01011286, -0.01340753, -0.01340753, -0.01340753, -0.01340753,\n",
       "       -0.01340753, -0.0097132 , -0.0097132 , -0.0097132 , -0.0097132 ,\n",
       "       -0.0097132 , -0.0499641 , -0.0499641 , -0.04996411, -0.04996411], dtype=float32)"
      ]
     },
     "execution_count": 260,
     "metadata": {},
     "output_type": "execute_result"
    }
   ],
   "source": []
  },
  {
   "cell_type": "code",
   "execution_count": null,
   "metadata": {
    "collapsed": true
   },
   "outputs": [],
   "source": []
  }
 ],
 "metadata": {
  "kernelspec": {
   "display_name": "Python 2",
   "language": "python",
   "name": "python2"
  },
  "language_info": {
   "codemirror_mode": {
    "name": "ipython",
    "version": 2
   },
   "file_extension": ".py",
   "mimetype": "text/x-python",
   "name": "python",
   "nbconvert_exporter": "python",
   "pygments_lexer": "ipython2",
   "version": "2.7.12"
  }
 },
 "nbformat": 4,
 "nbformat_minor": 0
}
